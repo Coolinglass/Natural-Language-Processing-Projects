{
 "cells": [
  {
   "cell_type": "markdown",
   "metadata": {
    "colab_type": "text",
    "id": "8DrQKITT6k2e"
   },
   "source": [
    "# Table of Contents\n",
    "### 1. Loading the Dataset\n",
    "### 2. Pre-processing the Dataset\n",
    "### 3. Feature Engineering and Model Building\n",
    "> ##### a. Creating Meta Features\n",
    "> ##### b. Counting Nouns and Verbs\n",
    "> ##### c. Model Building for Meta Features\n",
    "> ##### d. Tf-Idf Features\n",
    "> ##### e. Model Building for Complete Feature Set"
   ]
  },
  {
   "cell_type": "markdown",
   "metadata": {
    "colab_type": "text",
    "id": "Mni26OR_glxM"
   },
   "source": [
    "## 1. Loading the dataset"
   ]
  },
  {
   "cell_type": "code",
   "execution_count": 91,
   "metadata": {
    "_uuid": "1f872844f178d90776dc1b06d25cd6b819222199",
    "colab": {},
    "colab_type": "code",
    "executionInfo": {
     "elapsed": 1805,
     "status": "ok",
     "timestamp": 1598870128567,
     "user": {
      "displayName": "Faizan Shaikh",
      "photoUrl": "",
      "userId": "11428351120800485612"
     },
     "user_tz": -330
    },
    "id": "Qor5IqVtfgJk"
   },
   "outputs": [],
   "source": [
    "# Import libraries \n",
    "import pandas as pd\n",
    "import string"
   ]
  },
  {
   "cell_type": "code",
   "execution_count": 92,
   "metadata": {
    "colab": {
     "base_uri": "https://localhost:8080/",
     "height": 206
    },
    "colab_type": "code",
    "executionInfo": {
     "elapsed": 2087,
     "status": "ok",
     "timestamp": 1598870134469,
     "user": {
      "displayName": "Faizan Shaikh",
      "photoUrl": "",
      "userId": "11428351120800485612"
     },
     "user_tz": -330
    },
    "id": "6uUQpzxYgsE4",
    "outputId": "3f4e5147-259c-40a7-8efc-491256a39322"
   },
   "outputs": [
    {
     "data": {
      "text/html": [
       "<div>\n",
       "<style scoped>\n",
       "    .dataframe tbody tr th:only-of-type {\n",
       "        vertical-align: middle;\n",
       "    }\n",
       "\n",
       "    .dataframe tbody tr th {\n",
       "        vertical-align: top;\n",
       "    }\n",
       "\n",
       "    .dataframe thead th {\n",
       "        text-align: right;\n",
       "    }\n",
       "</style>\n",
       "<table border=\"1\" class=\"dataframe\">\n",
       "  <thead>\n",
       "    <tr style=\"text-align: right;\">\n",
       "      <th></th>\n",
       "      <th>id</th>\n",
       "      <th>label</th>\n",
       "      <th>tweet</th>\n",
       "    </tr>\n",
       "  </thead>\n",
       "  <tbody>\n",
       "    <tr>\n",
       "      <th>0</th>\n",
       "      <td>1</td>\n",
       "      <td>0</td>\n",
       "      <td>@user when a father is dysfunctional and is s...</td>\n",
       "    </tr>\n",
       "    <tr>\n",
       "      <th>1</th>\n",
       "      <td>2</td>\n",
       "      <td>0</td>\n",
       "      <td>@user @user thanks for #lyft credit i can't us...</td>\n",
       "    </tr>\n",
       "    <tr>\n",
       "      <th>2</th>\n",
       "      <td>3</td>\n",
       "      <td>0</td>\n",
       "      <td>bihday your majesty</td>\n",
       "    </tr>\n",
       "    <tr>\n",
       "      <th>3</th>\n",
       "      <td>4</td>\n",
       "      <td>0</td>\n",
       "      <td>#model   i love u take with u all the time in ...</td>\n",
       "    </tr>\n",
       "    <tr>\n",
       "      <th>4</th>\n",
       "      <td>5</td>\n",
       "      <td>0</td>\n",
       "      <td>factsguide: society now    #motivation</td>\n",
       "    </tr>\n",
       "  </tbody>\n",
       "</table>\n",
       "</div>"
      ],
      "text/plain": [
       "   id  label                                              tweet\n",
       "0   1      0   @user when a father is dysfunctional and is s...\n",
       "1   2      0  @user @user thanks for #lyft credit i can't us...\n",
       "2   3      0                                bihday your majesty\n",
       "3   4      0  #model   i love u take with u all the time in ...\n",
       "4   5      0             factsguide: society now    #motivation"
      ]
     },
     "execution_count": 92,
     "metadata": {},
     "output_type": "execute_result"
    }
   ],
   "source": [
    "# Load dataset\n",
    "data = pd.read_csv('train_E6oV3lV.csv')\n",
    "data.head()"
   ]
  },
  {
   "cell_type": "code",
   "execution_count": 93,
   "metadata": {
    "colab": {
     "base_uri": "https://localhost:8080/",
     "height": 69
    },
    "colab_type": "code",
    "executionInfo": {
     "elapsed": 1726,
     "status": "ok",
     "timestamp": 1598870134470,
     "user": {
      "displayName": "Faizan Shaikh",
      "photoUrl": "",
      "userId": "11428351120800485612"
     },
     "user_tz": -330
    },
    "id": "lGDbcIPJD2Lx",
    "outputId": "f3759117-7f4e-4dc1-e123-d37140cf431b"
   },
   "outputs": [
    {
     "data": {
      "text/plain": [
       "0    0.929854\n",
       "1    0.070146\n",
       "Name: label, dtype: float64"
      ]
     },
     "execution_count": 93,
     "metadata": {},
     "output_type": "execute_result"
    }
   ],
   "source": [
    "# distribution of class\n",
    "data['label'].value_counts(normalize=True)"
   ]
  },
  {
   "cell_type": "markdown",
   "metadata": {
    "colab_type": "text",
    "id": "NMQLWZjAijGi"
   },
   "source": [
    "## 2. Pre-processing the dataset"
   ]
  },
  {
   "cell_type": "code",
   "execution_count": 94,
   "metadata": {
    "colab": {},
    "colab_type": "code",
    "executionInfo": {
     "elapsed": 904,
     "status": "ok",
     "timestamp": 1598870134471,
     "user": {
      "displayName": "Faizan Shaikh",
      "photoUrl": "",
      "userId": "11428351120800485612"
     },
     "user_tz": -330
    },
    "id": "7UcUwxZHjzWW"
   },
   "outputs": [],
   "source": [
    "# Sample document: lowercase\n",
    "cleaned = data['tweet'][0].lower()"
   ]
  },
  {
   "cell_type": "code",
   "execution_count": 95,
   "metadata": {
    "colab": {
     "base_uri": "https://localhost:8080/",
     "height": 35
    },
    "colab_type": "code",
    "executionInfo": {
     "elapsed": 1443,
     "status": "ok",
     "timestamp": 1598870135350,
     "user": {
      "displayName": "Faizan Shaikh",
      "photoUrl": "",
      "userId": "11428351120800485612"
     },
     "user_tz": -330
    },
    "id": "giek4K2xj9Am",
    "outputId": "4925f4b9-9d45-4145-b3e3-a1c7af989761"
   },
   "outputs": [
    {
     "data": {
      "text/plain": [
       "' @user when a father is dysfunctional and is so selfish he drags his kids into his dysfunction.   #run'"
      ]
     },
     "execution_count": 95,
     "metadata": {},
     "output_type": "execute_result"
    }
   ],
   "source": [
    "# Sample document\n",
    "cleaned"
   ]
  },
  {
   "cell_type": "code",
   "execution_count": 96,
   "metadata": {},
   "outputs": [],
   "source": [
    "import re"
   ]
  },
  {
   "cell_type": "code",
   "execution_count": 97,
   "metadata": {},
   "outputs": [],
   "source": [
    "cleaned = re.sub('@\\w+','',cleaned)\n",
    "cleaned =re.sub('#\\w+','',cleaned)"
   ]
  },
  {
   "cell_type": "code",
   "execution_count": 98,
   "metadata": {},
   "outputs": [
    {
     "data": {
      "text/plain": [
       "'  when a father is dysfunctional and is so selfish he drags his kids into his dysfunction.   '"
      ]
     },
     "execution_count": 98,
     "metadata": {},
     "output_type": "execute_result"
    }
   ],
   "source": [
    "cleaned"
   ]
  },
  {
   "cell_type": "code",
   "execution_count": 99,
   "metadata": {
    "colab": {},
    "colab_type": "code",
    "executionInfo": {
     "elapsed": 1044,
     "status": "ok",
     "timestamp": 1598870135352,
     "user": {
      "displayName": "Faizan Shaikh",
      "photoUrl": "",
      "userId": "11428351120800485612"
     },
     "user_tz": -330
    },
    "id": "n5vHfzqljEB5"
   },
   "outputs": [],
   "source": [
    "# Pre-initialised list of punctuations\n",
    "punctuations = string.punctuation"
   ]
  },
  {
   "cell_type": "code",
   "execution_count": 100,
   "metadata": {
    "colab": {
     "base_uri": "https://localhost:8080/",
     "height": 35
    },
    "colab_type": "code",
    "executionInfo": {
     "elapsed": 1321,
     "status": "ok",
     "timestamp": 1598870136087,
     "user": {
      "displayName": "Faizan Shaikh",
      "photoUrl": "",
      "userId": "11428351120800485612"
     },
     "user_tz": -330
    },
    "id": "W6vfiURGkBCr",
    "outputId": "9f03ba32-b945-4d8a-c8cf-7ca2535367f9"
   },
   "outputs": [
    {
     "data": {
      "text/plain": [
       "'!\"#$%&\\'()*+,-./:;<=>?@[\\\\]^_`{|}~'"
      ]
     },
     "execution_count": 100,
     "metadata": {},
     "output_type": "execute_result"
    }
   ],
   "source": [
    "# Pre-initialised list of punctuations\n",
    "punctuations"
   ]
  },
  {
   "cell_type": "code",
   "execution_count": 101,
   "metadata": {
    "colab": {},
    "colab_type": "code",
    "executionInfo": {
     "elapsed": 908,
     "status": "ok",
     "timestamp": 1598870136088,
     "user": {
      "displayName": "Faizan Shaikh",
      "photoUrl": "",
      "userId": "11428351120800485612"
     },
     "user_tz": -330
    },
    "id": "gHBR_C87kCU9"
   },
   "outputs": [],
   "source": [
    "# Sample document: Remove punctuations\n",
    "cleaned = \"\".join(character for character in cleaned if character not in punctuations)    "
   ]
  },
  {
   "cell_type": "code",
   "execution_count": 102,
   "metadata": {
    "colab": {
     "base_uri": "https://localhost:8080/",
     "height": 35
    },
    "colab_type": "code",
    "executionInfo": {
     "elapsed": 2077,
     "status": "ok",
     "timestamp": 1598870137638,
     "user": {
      "displayName": "Faizan Shaikh",
      "photoUrl": "",
      "userId": "11428351120800485612"
     },
     "user_tz": -330
    },
    "id": "8JkL55j0j7XH",
    "outputId": "442199eb-ffd3-4bb9-c6a2-4ccd3f083498"
   },
   "outputs": [
    {
     "data": {
      "text/plain": [
       "'  when a father is dysfunctional and is so selfish he drags his kids into his dysfunction   '"
      ]
     },
     "execution_count": 102,
     "metadata": {},
     "output_type": "execute_result"
    }
   ],
   "source": [
    "# Sample document\n",
    "cleaned"
   ]
  },
  {
   "cell_type": "code",
   "execution_count": 103,
   "metadata": {
    "colab": {},
    "colab_type": "code",
    "executionInfo": {
     "elapsed": 1736,
     "status": "ok",
     "timestamp": 1598870137638,
     "user": {
      "displayName": "Faizan Shaikh",
      "photoUrl": "",
      "userId": "11428351120800485612"
     },
     "user_tz": -330
    },
    "id": "NSzgdloQkQaY"
   },
   "outputs": [],
   "source": [
    "# Import spacy\n",
    "from spacy.lang.en import English\n",
    "\n",
    "# Load English tokenizer, tagger, parser, NER and word vectors\n",
    "nlp = English()"
   ]
  },
  {
   "cell_type": "code",
   "execution_count": 104,
   "metadata": {
    "colab": {},
    "colab_type": "code",
    "executionInfo": {
     "elapsed": 2418,
     "status": "ok",
     "timestamp": 1598870138678,
     "user": {
      "displayName": "Faizan Shaikh",
      "photoUrl": "",
      "userId": "11428351120800485612"
     },
     "user_tz": -330
    },
    "id": "qiSH4XyTkUJu"
   },
   "outputs": [],
   "source": [
    "# spacy document\n",
    "my_doc = nlp(cleaned)"
   ]
  },
  {
   "cell_type": "code",
   "execution_count": 105,
   "metadata": {
    "colab": {},
    "colab_type": "code",
    "executionInfo": {
     "elapsed": 2096,
     "status": "ok",
     "timestamp": 1598870138678,
     "user": {
      "displayName": "Faizan Shaikh",
      "photoUrl": "",
      "userId": "11428351120800485612"
     },
     "user_tz": -330
    },
    "id": "NuaGD0ShkX5T"
   },
   "outputs": [],
   "source": [
    "# Create list of word tokens\n",
    "token_list = []\n",
    "for token in my_doc:\n",
    "    token_list.append(token.text)"
   ]
  },
  {
   "cell_type": "code",
   "execution_count": 106,
   "metadata": {
    "colab": {},
    "colab_type": "code",
    "executionInfo": {
     "elapsed": 1777,
     "status": "ok",
     "timestamp": 1598870138679,
     "user": {
      "displayName": "Faizan Shaikh",
      "photoUrl": "",
      "userId": "11428351120800485612"
     },
     "user_tz": -330
    },
    "id": "Ba34dra9kZvK"
   },
   "outputs": [],
   "source": [
    "# Import stop words\n",
    "from spacy.lang.en.stop_words import STOP_WORDS"
   ]
  },
  {
   "cell_type": "code",
   "execution_count": 107,
   "metadata": {
    "colab": {
     "base_uri": "https://localhost:8080/",
     "height": 72
    },
    "colab_type": "code",
    "executionInfo": {
     "elapsed": 1487,
     "status": "ok",
     "timestamp": 1598870138680,
     "user": {
      "displayName": "Faizan Shaikh",
      "photoUrl": "",
      "userId": "11428351120800485612"
     },
     "user_tz": -330
    },
    "id": "raRfFRTqkZsW",
    "outputId": "d7e110eb-d60d-430c-d32e-acd4f62570b9"
   },
   "outputs": [
    {
     "name": "stdout",
     "output_type": "stream",
     "text": [
      "['  ', 'when', 'a', 'father', 'is', 'dysfunctional', 'and', 'is', 'so', 'selfish', 'he', 'drags', 'his', 'kids', 'into', 'his', 'dysfunction', '  ']\n",
      "['  ', 'father', 'dysfunctional', 'selfish', 'drags', 'kids', 'dysfunction', '  ']\n"
     ]
    }
   ],
   "source": [
    "# Create list of word tokens after removing stopwords\n",
    "filtered_sentence =[] \n",
    "\n",
    "# Iterate over the tokens\n",
    "for word in token_list:\n",
    "    # Get token text\n",
    "    lexeme = nlp.vocab[word]\n",
    "    # Check if stopword or not\n",
    "    if lexeme.is_stop == False:\n",
    "        filtered_sentence.append(word) \n",
    "\n",
    "# Print tokens and filtered sentence\n",
    "print(token_list)\n",
    "print(filtered_sentence)\n",
    "cleaned = filtered_sentence"
   ]
  },
  {
   "cell_type": "code",
   "execution_count": 108,
   "metadata": {
    "colab": {
     "base_uri": "https://localhost:8080/",
     "height": 35
    },
    "colab_type": "code",
    "executionInfo": {
     "elapsed": 1085,
     "status": "ok",
     "timestamp": 1598870138681,
     "user": {
      "displayName": "Faizan Shaikh",
      "photoUrl": "",
      "userId": "11428351120800485612"
     },
     "user_tz": -330
    },
    "id": "JN8EbY2KkIf5",
    "outputId": "71fd6051-df74-4034-fea9-ec1784224bf5"
   },
   "outputs": [
    {
     "data": {
      "text/plain": [
       "'   father dysfunctional selfish drags kids dysfunction   '"
      ]
     },
     "execution_count": 108,
     "metadata": {},
     "output_type": "execute_result"
    }
   ],
   "source": [
    "# Joining the tokenised words in sample document\n",
    "cleaned = \" \".join(cleaned)\n",
    "cleaned"
   ]
  },
  {
   "cell_type": "code",
   "execution_count": 109,
   "metadata": {
    "colab": {},
    "colab_type": "code",
    "executionInfo": {
     "elapsed": 1474,
     "status": "ok",
     "timestamp": 1598870139525,
     "user": {
      "displayName": "Faizan Shaikh",
      "photoUrl": "",
      "userId": "11428351120800485612"
     },
     "user_tz": -330
    },
    "id": "VWF1FkPckISW"
   },
   "outputs": [],
   "source": [
    "# Preprocessing function\n",
    "def clean_text(text):\n",
    "    ## lower case \n",
    "    cleaned = text.lower()\n",
    "    cleaned = re.sub('@\\w+','',cleaned)\n",
    "    cleaned =re.sub('#\\w+','',cleaned)\n",
    "    \n",
    "    ## remove punctuations\n",
    "    punctuations = string.punctuation\n",
    "    cleaned = \"\".join(character for character in cleaned if character not in punctuations)\n",
    "    \n",
    "    ## remove stopwords \n",
    "    my_doc = nlp(cleaned)\n",
    "    token_list = []\n",
    "    for token in my_doc:\n",
    "        token_list.append(token.text)\n",
    "    \n",
    "    ## remove stop words\n",
    "    filtered_sentence =[] \n",
    "\n",
    "    for word in token_list:\n",
    "        lexeme = nlp.vocab[word]\n",
    "        if lexeme.is_stop == False:\n",
    "            filtered_sentence.append(word)\n",
    "    \n",
    "    ## Store cleaned document\n",
    "    cleaned = filtered_sentence\n",
    "    cleaned = \" \".join(cleaned)\n",
    "    \n",
    "    return cleaned"
   ]
  },
  {
   "cell_type": "code",
   "execution_count": 110,
   "metadata": {
    "_uuid": "c6b1a3e7c75160b16902579f89d2207bedde5f13",
    "colab": {
     "base_uri": "https://localhost:8080/",
     "height": 206
    },
    "colab_type": "code",
    "executionInfo": {
     "elapsed": 1687,
     "status": "ok",
     "timestamp": 1598870140317,
     "user": {
      "displayName": "Faizan Shaikh",
      "photoUrl": "",
      "userId": "11428351120800485612"
     },
     "user_tz": -330
    },
    "id": "KEaFCLV0fgJ_",
    "outputId": "7a6033ab-b442-490f-8bf1-0d6865db5398"
   },
   "outputs": [
    {
     "data": {
      "text/html": [
       "<div>\n",
       "<style scoped>\n",
       "    .dataframe tbody tr th:only-of-type {\n",
       "        vertical-align: middle;\n",
       "    }\n",
       "\n",
       "    .dataframe tbody tr th {\n",
       "        vertical-align: top;\n",
       "    }\n",
       "\n",
       "    .dataframe thead th {\n",
       "        text-align: right;\n",
       "    }\n",
       "</style>\n",
       "<table border=\"1\" class=\"dataframe\">\n",
       "  <thead>\n",
       "    <tr style=\"text-align: right;\">\n",
       "      <th></th>\n",
       "      <th>id</th>\n",
       "      <th>label</th>\n",
       "      <th>tweet</th>\n",
       "      <th>cleaned</th>\n",
       "    </tr>\n",
       "  </thead>\n",
       "  <tbody>\n",
       "    <tr>\n",
       "      <th>0</th>\n",
       "      <td>1</td>\n",
       "      <td>0</td>\n",
       "      <td>@user when a father is dysfunctional and is s...</td>\n",
       "      <td>father dysfunctional selfish drags kids dys...</td>\n",
       "    </tr>\n",
       "    <tr>\n",
       "      <th>1</th>\n",
       "      <td>2</td>\n",
       "      <td>0</td>\n",
       "      <td>@user @user thanks for #lyft credit i can't us...</td>\n",
       "      <td>thanks   credit nt use cause nt offer wheel...</td>\n",
       "    </tr>\n",
       "    <tr>\n",
       "      <th>2</th>\n",
       "      <td>3</td>\n",
       "      <td>0</td>\n",
       "      <td>bihday your majesty</td>\n",
       "      <td>bihday majesty</td>\n",
       "    </tr>\n",
       "    <tr>\n",
       "      <th>3</th>\n",
       "      <td>4</td>\n",
       "      <td>0</td>\n",
       "      <td>#model   i love u take with u all the time in ...</td>\n",
       "      <td>love u u time urð± ðððð ",
       " ð...</td>\n",
       "    </tr>\n",
       "    <tr>\n",
       "      <th>4</th>\n",
       "      <td>5</td>\n",
       "      <td>0</td>\n",
       "      <td>factsguide: society now    #motivation</td>\n",
       "      <td>factsguide society</td>\n",
       "    </tr>\n",
       "  </tbody>\n",
       "</table>\n",
       "</div>"
      ],
      "text/plain": [
       "   id  label                                              tweet  \\\n",
       "0   1      0   @user when a father is dysfunctional and is s...   \n",
       "1   2      0  @user @user thanks for #lyft credit i can't us...   \n",
       "2   3      0                                bihday your majesty   \n",
       "3   4      0  #model   i love u take with u all the time in ...   \n",
       "4   5      0             factsguide: society now    #motivation   \n",
       "\n",
       "                                             cleaned  \n",
       "0     father dysfunctional selfish drags kids dys...  \n",
       "1     thanks   credit nt use cause nt offer wheel...  \n",
       "2                                     bihday majesty  \n",
       "3      love u u time urð± ðððð \n",
       " ð...  \n",
       "4                             factsguide society      "
      ]
     },
     "execution_count": 110,
     "metadata": {},
     "output_type": "execute_result"
    }
   ],
   "source": [
    "# Applying the preprocessin function\n",
    "data[\"cleaned\"] = data[\"tweet\"].apply(lambda x : clean_text(x))\n",
    "data.head()"
   ]
  },
  {
   "cell_type": "markdown",
   "metadata": {
    "colab_type": "text",
    "id": "w0aGLW5v8Reo"
   },
   "source": [
    "## 3. Feature Engineering and Model Building"
   ]
  },
  {
   "cell_type": "markdown",
   "metadata": {
    "colab_type": "text",
    "id": "vnyEsmnAoFZR"
   },
   "source": [
    "### a. Creating Meta Features\n",
    "\n",
    "> 1. Number of words in original text\n",
    "> 2. Number of words in cleaned text\n",
    "> 3. Number of characters including spaces in the cleaned text\n",
    "> 4. Number of characters excluding spaces in the cleaned text\n",
    "> 5. Number of digits in the cleaned text"
   ]
  },
  {
   "cell_type": "code",
   "execution_count": 111,
   "metadata": {
    "colab": {},
    "colab_type": "code",
    "executionInfo": {
     "elapsed": 1907,
     "status": "ok",
     "timestamp": 1598870149457,
     "user": {
      "displayName": "Faizan Shaikh",
      "photoUrl": "",
      "userId": "11428351120800485612"
     },
     "user_tz": -330
    },
    "id": "zxRq1BGifgKZ"
   },
   "outputs": [],
   "source": [
    "# Creating meta features\n",
    "\n",
    "# Number of words in original text\n",
    "data[\"word_count\"] = data[\"tweet\"].apply(lambda x : len(x.split()))\n",
    "# Number of words in cleaned text\n",
    "data[\"word_count_cleand\"] = data[\"cleaned\"].apply(lambda x : len(x.split()))\n",
    "\n",
    "# Number of characters including spaces in the cleaned text\n",
    "data[\"char_count\"] = data[\"cleaned\"].apply(lambda x : len(x))\n",
    "# number of characters excluding spaces in the cleaned text\n",
    "data[\"char_count_without_spaces\"] = data[\"cleaned\"].apply(lambda x : len(x.replace(\" \",\"\")))\n",
    "\n",
    "# Number of digits in the cleaned text\n",
    "data[\"num_dig\"] = data[\"cleaned\"].apply(lambda x :  sum([1 if w.isdigit() else 0 for w in x.split()]))"
   ]
  },
  {
   "cell_type": "code",
   "execution_count": 112,
   "metadata": {
    "colab": {
     "base_uri": "https://localhost:8080/",
     "height": 275
    },
    "colab_type": "code",
    "executionInfo": {
     "elapsed": 1547,
     "status": "ok",
     "timestamp": 1598870149459,
     "user": {
      "displayName": "Faizan Shaikh",
      "photoUrl": "",
      "userId": "11428351120800485612"
     },
     "user_tz": -330
    },
    "id": "BrMK3ZfTfgKg",
    "outputId": "9cfc81ec-04f6-4b2e-f569-05df647ffb07"
   },
   "outputs": [
    {
     "data": {
      "text/html": [
       "<div>\n",
       "<style scoped>\n",
       "    .dataframe tbody tr th:only-of-type {\n",
       "        vertical-align: middle;\n",
       "    }\n",
       "\n",
       "    .dataframe tbody tr th {\n",
       "        vertical-align: top;\n",
       "    }\n",
       "\n",
       "    .dataframe thead th {\n",
       "        text-align: right;\n",
       "    }\n",
       "</style>\n",
       "<table border=\"1\" class=\"dataframe\">\n",
       "  <thead>\n",
       "    <tr style=\"text-align: right;\">\n",
       "      <th></th>\n",
       "      <th>id</th>\n",
       "      <th>label</th>\n",
       "      <th>tweet</th>\n",
       "      <th>cleaned</th>\n",
       "      <th>word_count</th>\n",
       "      <th>word_count_cleand</th>\n",
       "      <th>char_count</th>\n",
       "      <th>char_count_without_spaces</th>\n",
       "      <th>num_dig</th>\n",
       "    </tr>\n",
       "  </thead>\n",
       "  <tbody>\n",
       "    <tr>\n",
       "      <th>0</th>\n",
       "      <td>1</td>\n",
       "      <td>0</td>\n",
       "      <td>@user when a father is dysfunctional and is s...</td>\n",
       "      <td>father dysfunctional selfish drags kids dys...</td>\n",
       "      <td>18</td>\n",
       "      <td>6</td>\n",
       "      <td>57</td>\n",
       "      <td>46</td>\n",
       "      <td>0</td>\n",
       "    </tr>\n",
       "    <tr>\n",
       "      <th>1</th>\n",
       "      <td>2</td>\n",
       "      <td>0</td>\n",
       "      <td>@user @user thanks for #lyft credit i can't us...</td>\n",
       "      <td>thanks   credit nt use cause nt offer wheel...</td>\n",
       "      <td>19</td>\n",
       "      <td>10</td>\n",
       "      <td>65</td>\n",
       "      <td>46</td>\n",
       "      <td>0</td>\n",
       "    </tr>\n",
       "    <tr>\n",
       "      <th>2</th>\n",
       "      <td>3</td>\n",
       "      <td>0</td>\n",
       "      <td>bihday your majesty</td>\n",
       "      <td>bihday majesty</td>\n",
       "      <td>3</td>\n",
       "      <td>2</td>\n",
       "      <td>17</td>\n",
       "      <td>13</td>\n",
       "      <td>0</td>\n",
       "    </tr>\n",
       "    <tr>\n",
       "      <th>3</th>\n",
       "      <td>4</td>\n",
       "      <td>0</td>\n",
       "      <td>#model   i love u take with u all the time in ...</td>\n",
       "      <td>love u u time urð± ðððð ",
       " ð...</td>\n",
       "      <td>14</td>\n",
       "      <td>12</td>\n",
       "      <td>62</td>\n",
       "      <td>44</td>\n",
       "      <td>0</td>\n",
       "    </tr>\n",
       "    <tr>\n",
       "      <th>4</th>\n",
       "      <td>5</td>\n",
       "      <td>0</td>\n",
       "      <td>factsguide: society now    #motivation</td>\n",
       "      <td>factsguide society</td>\n",
       "      <td>4</td>\n",
       "      <td>2</td>\n",
       "      <td>24</td>\n",
       "      <td>17</td>\n",
       "      <td>0</td>\n",
       "    </tr>\n",
       "  </tbody>\n",
       "</table>\n",
       "</div>"
      ],
      "text/plain": [
       "   id  label                                              tweet  \\\n",
       "0   1      0   @user when a father is dysfunctional and is s...   \n",
       "1   2      0  @user @user thanks for #lyft credit i can't us...   \n",
       "2   3      0                                bihday your majesty   \n",
       "3   4      0  #model   i love u take with u all the time in ...   \n",
       "4   5      0             factsguide: society now    #motivation   \n",
       "\n",
       "                                             cleaned  word_count  \\\n",
       "0     father dysfunctional selfish drags kids dys...          18   \n",
       "1     thanks   credit nt use cause nt offer wheel...          19   \n",
       "2                                     bihday majesty           3   \n",
       "3      love u u time urð± ðððð \n",
       " ð...          14   \n",
       "4                             factsguide society               4   \n",
       "\n",
       "   word_count_cleand  char_count  char_count_without_spaces  num_dig  \n",
       "0                  6          57                         46        0  \n",
       "1                 10          65                         46        0  \n",
       "2                  2          17                         13        0  \n",
       "3                 12          62                         44        0  \n",
       "4                  2          24                         17        0  "
      ]
     },
     "execution_count": 112,
     "metadata": {},
     "output_type": "execute_result"
    }
   ],
   "source": [
    "# Print dataset\n",
    "data.head()"
   ]
  },
  {
   "cell_type": "markdown",
   "metadata": {
    "colab_type": "text",
    "id": "hyEwxbmWpnrP"
   },
   "source": [
    "### b. Counting Nouns and Verbs"
   ]
  },
  {
   "cell_type": "code",
   "execution_count": 113,
   "metadata": {
    "colab": {},
    "colab_type": "code",
    "executionInfo": {
     "elapsed": 2077,
     "status": "ok",
     "timestamp": 1598870153483,
     "user": {
      "displayName": "Faizan Shaikh",
      "photoUrl": "",
      "userId": "11428351120800485612"
     },
     "user_tz": -330
    },
    "id": "zHGNSuKssfqK"
   },
   "outputs": [],
   "source": [
    "# Import spacy English language model\n",
    "import spacy\n",
    "nlp = spacy.load(\"en_core_web_sm\")"
   ]
  },
  {
   "cell_type": "code",
   "execution_count": 114,
   "metadata": {
    "colab": {},
    "colab_type": "code",
    "executionInfo": {
     "elapsed": 1048,
     "status": "ok",
     "timestamp": 1598870153484,
     "user": {
      "displayName": "Faizan Shaikh",
      "photoUrl": "",
      "userId": "11428351120800485612"
     },
     "user_tz": -330
    },
    "id": "G1fLA3suqunT"
   },
   "outputs": [],
   "source": [
    "# spacy document\n",
    "document = nlp(data['cleaned'][0])"
   ]
  },
  {
   "cell_type": "code",
   "execution_count": 115,
   "metadata": {
    "colab": {
     "base_uri": "https://localhost:8080/",
     "height": 34
    },
    "colab_type": "code",
    "executionInfo": {
     "elapsed": 900,
     "status": "ok",
     "timestamp": 1598870154168,
     "user": {
      "displayName": "Faizan Shaikh",
      "photoUrl": "",
      "userId": "11428351120800485612"
     },
     "user_tz": -330
    },
    "id": "gieo4eO_snBN",
    "outputId": "4b88ce33-90ce-4019-bf27-58ba5a62f583"
   },
   "outputs": [
    {
     "data": {
      "text/plain": [
       "   father dysfunctional selfish drags kids dysfunction   "
      ]
     },
     "execution_count": 115,
     "metadata": {},
     "output_type": "execute_result"
    }
   ],
   "source": [
    "# Sample document\n",
    "document"
   ]
  },
  {
   "cell_type": "code",
   "execution_count": 116,
   "metadata": {
    "colab": {},
    "colab_type": "code",
    "executionInfo": {
     "elapsed": 958,
     "status": "ok",
     "timestamp": 1598870157044,
     "user": {
      "displayName": "Faizan Shaikh",
      "photoUrl": "",
      "userId": "11428351120800485612"
     },
     "user_tz": -330
    },
    "id": "hrr6jgKM7D7I"
   },
   "outputs": [],
   "source": [
    "# POS tags\n",
    "all_tags = []\n",
    "for w in document:\n",
    "    all_tags.append(w.tag_)"
   ]
  },
  {
   "cell_type": "code",
   "execution_count": 117,
   "metadata": {
    "colab": {
     "base_uri": "https://localhost:8080/",
     "height": 278
    },
    "colab_type": "code",
    "executionInfo": {
     "elapsed": 892,
     "status": "ok",
     "timestamp": 1598870157048,
     "user": {
      "displayName": "Faizan Shaikh",
      "photoUrl": "",
      "userId": "11428351120800485612"
     },
     "user_tz": -330
    },
    "id": "QjAFJx-eqtkJ",
    "outputId": "92616a4c-3042-4f3f-a1ab-af103b72055f"
   },
   "outputs": [
    {
     "data": {
      "text/plain": [
       "['_SP', 'NNP', 'NNP', 'JJ', 'NNS', 'NNS', 'NN', '_SP']"
      ]
     },
     "execution_count": 117,
     "metadata": {},
     "output_type": "execute_result"
    }
   ],
   "source": [
    "# POS tags\n",
    "all_tags"
   ]
  },
  {
   "cell_type": "code",
   "execution_count": 118,
   "metadata": {
    "colab": {},
    "colab_type": "code",
    "executionInfo": {
     "elapsed": 1075,
     "status": "ok",
     "timestamp": 1598870159812,
     "user": {
      "displayName": "Faizan Shaikh",
      "photoUrl": "",
      "userId": "11428351120800485612"
     },
     "user_tz": -330
    },
    "id": "R-9ftC2y5XIS"
   },
   "outputs": [],
   "source": [
    "# Dictionary of noun and verb POS tags\n",
    "pos_dic = {\"noun\" : [\"NNP\", \"NN\", \"NNS\", \"NNPS\"], \"verb\" : [\"VBZ\", \"VB\", \"VBD\",\"VBG\", \"VBN\"]}"
   ]
  },
  {
   "cell_type": "code",
   "execution_count": 119,
   "metadata": {
    "colab": {},
    "colab_type": "code",
    "executionInfo": {
     "elapsed": 1233,
     "status": "ok",
     "timestamp": 1598870163132,
     "user": {
      "displayName": "Faizan Shaikh",
      "photoUrl": "",
      "userId": "11428351120800485612"
     },
     "user_tz": -330
    },
    "id": "5VVrV6KQ5XG4"
   },
   "outputs": [],
   "source": [
    "# Sample document: Noun count\n",
    "count = 0\n",
    "for tag in all_tags:\n",
    "    if tag in pos_dic['noun']:\n",
    "        count += 1"
   ]
  },
  {
   "cell_type": "code",
   "execution_count": 120,
   "metadata": {
    "colab": {
     "base_uri": "https://localhost:8080/",
     "height": 34
    },
    "colab_type": "code",
    "executionInfo": {
     "elapsed": 817,
     "status": "ok",
     "timestamp": 1598870163137,
     "user": {
      "displayName": "Faizan Shaikh",
      "photoUrl": "",
      "userId": "11428351120800485612"
     },
     "user_tz": -330
    },
    "id": "oKOGcld27kVG",
    "outputId": "9f3a67a8-5571-4ce8-a6ac-3ffaaab0b6a0"
   },
   "outputs": [
    {
     "data": {
      "text/plain": [
       "5"
      ]
     },
     "execution_count": 120,
     "metadata": {},
     "output_type": "execute_result"
    }
   ],
   "source": [
    "# Sample document: Noun count\n",
    "count"
   ]
  },
  {
   "cell_type": "code",
   "execution_count": 121,
   "metadata": {
    "colab": {},
    "colab_type": "code",
    "executionInfo": {
     "elapsed": 1108,
     "status": "ok",
     "timestamp": 1598870163839,
     "user": {
      "displayName": "Faizan Shaikh",
      "photoUrl": "",
      "userId": "11428351120800485612"
     },
     "user_tz": -330
    },
    "id": "I1wPYQFUfgKm"
   },
   "outputs": [],
   "source": [
    "# Function for noun and verb counts\n",
    "def pos_check(txt, family):\n",
    "\n",
    "    # spacy document\n",
    "    txt = nlp(txt)\n",
    "    \n",
    "    all_tags = []\n",
    "\n",
    "    # Get pos tag\n",
    "    for w in txt:\n",
    "        all_tags.append(w.tag_)\n",
    "    \n",
    "    count = 0\n",
    "\n",
    "    # Count number of nouns and verbs\n",
    "    for tag in all_tags:\n",
    "        if tag in pos_dic[family]:\n",
    "            count += 1\n",
    "\n",
    "    return count"
   ]
  },
  {
   "cell_type": "code",
   "execution_count": 122,
   "metadata": {
    "colab": {
     "base_uri": "https://localhost:8080/",
     "height": 34
    },
    "colab_type": "code",
    "executionInfo": {
     "elapsed": 1692,
     "status": "ok",
     "timestamp": 1598870170217,
     "user": {
      "displayName": "Faizan Shaikh",
      "photoUrl": "",
      "userId": "11428351120800485612"
     },
     "user_tz": -330
    },
    "id": "kq_s46Hc8ejP",
    "outputId": "2c6c6011-63cf-4995-f731-8472c6aa322d"
   },
   "outputs": [
    {
     "data": {
      "text/plain": [
       "1"
      ]
     },
     "execution_count": 122,
     "metadata": {},
     "output_type": "execute_result"
    }
   ],
   "source": [
    "# Sample document: Noun count\n",
    "pos_check(\"They are playing in the ground\", \"verb\")"
   ]
  },
  {
   "cell_type": "code",
   "execution_count": 123,
   "metadata": {
    "colab": {
     "base_uri": "https://localhost:8080/",
     "height": 34
    },
    "colab_type": "code",
    "executionInfo": {
     "elapsed": 1660,
     "status": "ok",
     "timestamp": 1598870223212,
     "user": {
      "displayName": "Faizan Shaikh",
      "photoUrl": "",
      "userId": "11428351120800485612"
     },
     "user_tz": -330
    },
    "id": "SJ5do1Hc8t4v",
    "outputId": "42be685c-fe47-47ae-d44e-2a2ca6fb41ee"
   },
   "outputs": [
    {
     "data": {
      "text/plain": [
       "1"
      ]
     },
     "execution_count": 123,
     "metadata": {},
     "output_type": "execute_result"
    }
   ],
   "source": [
    "# Sample document: Verb count\n",
    "pos_check(\"They are playing in the ground\", \"noun\")"
   ]
  },
  {
   "cell_type": "code",
   "execution_count": 124,
   "metadata": {
    "colab": {},
    "colab_type": "code",
    "executionInfo": {
     "elapsed": 95366,
     "status": "ok",
     "timestamp": 1598870332686,
     "user": {
      "displayName": "Faizan Shaikh",
      "photoUrl": "",
      "userId": "11428351120800485612"
     },
     "user_tz": -330
    },
    "id": "o6J-a92V8gmX"
   },
   "outputs": [],
   "source": [
    "# Applying the function\n",
    "data[\"noun_count\"] = data[\"cleaned\"].apply(lambda x : pos_check(x, \"noun\"))\n",
    "data[\"verb_count\"] = data[\"cleaned\"].apply(lambda x : pos_check(x, \"verb\"))"
   ]
  },
  {
   "cell_type": "code",
   "execution_count": 125,
   "metadata": {
    "colab": {
     "base_uri": "https://localhost:8080/",
     "height": 449
    },
    "colab_type": "code",
    "executionInfo": {
     "elapsed": 1444,
     "status": "ok",
     "timestamp": 1598870341283,
     "user": {
      "displayName": "Faizan Shaikh",
      "photoUrl": "",
      "userId": "11428351120800485612"
     },
     "user_tz": -330
    },
    "id": "3yqAMTHXfgKs",
    "outputId": "59b9252d-6dae-4306-9dcf-070933fe6dc2"
   },
   "outputs": [
    {
     "data": {
      "text/html": [
       "<div>\n",
       "<style scoped>\n",
       "    .dataframe tbody tr th:only-of-type {\n",
       "        vertical-align: middle;\n",
       "    }\n",
       "\n",
       "    .dataframe tbody tr th {\n",
       "        vertical-align: top;\n",
       "    }\n",
       "\n",
       "    .dataframe thead th {\n",
       "        text-align: right;\n",
       "    }\n",
       "</style>\n",
       "<table border=\"1\" class=\"dataframe\">\n",
       "  <thead>\n",
       "    <tr style=\"text-align: right;\">\n",
       "      <th></th>\n",
       "      <th>id</th>\n",
       "      <th>label</th>\n",
       "      <th>tweet</th>\n",
       "      <th>cleaned</th>\n",
       "      <th>word_count</th>\n",
       "      <th>word_count_cleand</th>\n",
       "      <th>char_count</th>\n",
       "      <th>char_count_without_spaces</th>\n",
       "      <th>num_dig</th>\n",
       "      <th>noun_count</th>\n",
       "      <th>verb_count</th>\n",
       "    </tr>\n",
       "  </thead>\n",
       "  <tbody>\n",
       "    <tr>\n",
       "      <th>0</th>\n",
       "      <td>1</td>\n",
       "      <td>0</td>\n",
       "      <td>@user when a father is dysfunctional and is s...</td>\n",
       "      <td>father dysfunctional selfish drags kids dys...</td>\n",
       "      <td>18</td>\n",
       "      <td>6</td>\n",
       "      <td>57</td>\n",
       "      <td>46</td>\n",
       "      <td>0</td>\n",
       "      <td>5</td>\n",
       "      <td>0</td>\n",
       "    </tr>\n",
       "    <tr>\n",
       "      <th>1</th>\n",
       "      <td>2</td>\n",
       "      <td>0</td>\n",
       "      <td>@user @user thanks for #lyft credit i can't us...</td>\n",
       "      <td>thanks   credit nt use cause nt offer wheel...</td>\n",
       "      <td>19</td>\n",
       "      <td>10</td>\n",
       "      <td>65</td>\n",
       "      <td>46</td>\n",
       "      <td>0</td>\n",
       "      <td>5</td>\n",
       "      <td>2</td>\n",
       "    </tr>\n",
       "    <tr>\n",
       "      <th>2</th>\n",
       "      <td>3</td>\n",
       "      <td>0</td>\n",
       "      <td>bihday your majesty</td>\n",
       "      <td>bihday majesty</td>\n",
       "      <td>3</td>\n",
       "      <td>2</td>\n",
       "      <td>17</td>\n",
       "      <td>13</td>\n",
       "      <td>0</td>\n",
       "      <td>2</td>\n",
       "      <td>0</td>\n",
       "    </tr>\n",
       "    <tr>\n",
       "      <th>3</th>\n",
       "      <td>4</td>\n",
       "      <td>0</td>\n",
       "      <td>#model   i love u take with u all the time in ...</td>\n",
       "      <td>love u u time urð± ðððð ",
       " ð...</td>\n",
       "      <td>14</td>\n",
       "      <td>12</td>\n",
       "      <td>62</td>\n",
       "      <td>44</td>\n",
       "      <td>0</td>\n",
       "      <td>8</td>\n",
       "      <td>0</td>\n",
       "    </tr>\n",
       "    <tr>\n",
       "      <th>4</th>\n",
       "      <td>5</td>\n",
       "      <td>0</td>\n",
       "      <td>factsguide: society now    #motivation</td>\n",
       "      <td>factsguide society</td>\n",
       "      <td>4</td>\n",
       "      <td>2</td>\n",
       "      <td>24</td>\n",
       "      <td>17</td>\n",
       "      <td>0</td>\n",
       "      <td>2</td>\n",
       "      <td>0</td>\n",
       "    </tr>\n",
       "  </tbody>\n",
       "</table>\n",
       "</div>"
      ],
      "text/plain": [
       "   id  label                                              tweet  \\\n",
       "0   1      0   @user when a father is dysfunctional and is s...   \n",
       "1   2      0  @user @user thanks for #lyft credit i can't us...   \n",
       "2   3      0                                bihday your majesty   \n",
       "3   4      0  #model   i love u take with u all the time in ...   \n",
       "4   5      0             factsguide: society now    #motivation   \n",
       "\n",
       "                                             cleaned  word_count  \\\n",
       "0     father dysfunctional selfish drags kids dys...          18   \n",
       "1     thanks   credit nt use cause nt offer wheel...          19   \n",
       "2                                     bihday majesty           3   \n",
       "3      love u u time urð± ðððð \n",
       " ð...          14   \n",
       "4                             factsguide society               4   \n",
       "\n",
       "   word_count_cleand  char_count  char_count_without_spaces  num_dig  \\\n",
       "0                  6          57                         46        0   \n",
       "1                 10          65                         46        0   \n",
       "2                  2          17                         13        0   \n",
       "3                 12          62                         44        0   \n",
       "4                  2          24                         17        0   \n",
       "\n",
       "   noun_count  verb_count  \n",
       "0           5           0  \n",
       "1           5           2  \n",
       "2           2           0  \n",
       "3           8           0  \n",
       "4           2           0  "
      ]
     },
     "execution_count": 125,
     "metadata": {},
     "output_type": "execute_result"
    }
   ],
   "source": [
    "# Print output\n",
    "data.head()"
   ]
  },
  {
   "cell_type": "markdown",
   "metadata": {
    "colab_type": "text",
    "id": "H7Am-PBC9KXj"
   },
   "source": [
    "### c. Model Building for Meta Features"
   ]
  },
  {
   "cell_type": "code",
   "execution_count": 126,
   "metadata": {
    "colab": {},
    "colab_type": "code",
    "executionInfo": {
     "elapsed": 1375,
     "status": "ok",
     "timestamp": 1598870441010,
     "user": {
      "displayName": "Faizan Shaikh",
      "photoUrl": "",
      "userId": "11428351120800485612"
     },
     "user_tz": -330
    },
    "id": "RmUCN9cmCJtJ"
   },
   "outputs": [],
   "source": [
    "# Label encoding target variable\n",
    "from sklearn.preprocessing import LabelEncoder \n",
    "\n",
    "target = data[\"label\"].values\n",
    "target = LabelEncoder().fit_transform(target)"
   ]
  },
  {
   "cell_type": "code",
   "execution_count": 127,
   "metadata": {
    "colab": {},
    "colab_type": "code",
    "executionInfo": {
     "elapsed": 2135,
     "status": "ok",
     "timestamp": 1598870476555,
     "user": {
      "displayName": "Faizan Shaikh",
      "photoUrl": "",
      "userId": "11428351120800485612"
     },
     "user_tz": -330
    },
    "id": "jt6DEgPrCcU2"
   },
   "outputs": [],
   "source": [
    "# List of features\n",
    "train = data[['word_count', 'word_count_cleand', 'char_count', \n",
    "              'char_count_without_spaces', 'num_dig', 'noun_count', \n",
    "              'verb_count']]"
   ]
  },
  {
   "cell_type": "code",
   "execution_count": 128,
   "metadata": {
    "colab": {},
    "colab_type": "code",
    "executionInfo": {
     "elapsed": 1846,
     "status": "ok",
     "timestamp": 1598870758012,
     "user": {
      "displayName": "Faizan Shaikh",
      "photoUrl": "",
      "userId": "11428351120800485612"
     },
     "user_tz": -330
    },
    "id": "xrjhgosACJqg"
   },
   "outputs": [],
   "source": [
    "# Train-Validation split\n",
    "from sklearn.model_selection import train_test_split\n",
    "\n",
    "x_train, x_valid, y_train, y_valid = train_test_split(train, target, test_size = 0.2, random_state=20, stratify=target)"
   ]
  },
  {
   "cell_type": "code",
   "execution_count": 129,
   "metadata": {
    "colab": {
     "base_uri": "https://localhost:8080/",
     "height": 34
    },
    "colab_type": "code",
    "executionInfo": {
     "elapsed": 1654,
     "status": "ok",
     "timestamp": 1598870763404,
     "user": {
      "displayName": "Faizan Shaikh",
      "photoUrl": "",
      "userId": "11428351120800485612"
     },
     "user_tz": -330
    },
    "id": "V0a9fR_mCJm6",
    "outputId": "ac49a833-5b49-456e-913a-5dbc54bbc6bc"
   },
   "outputs": [
    {
     "data": {
      "text/plain": [
       "(((25569, 7), (25569,)), ((6393, 7), (6393,)))"
      ]
     },
     "execution_count": 129,
     "metadata": {},
     "output_type": "execute_result"
    }
   ],
   "source": [
    "# Train and Validatio dataset\n",
    "(x_train.shape, y_train.shape), (x_valid.shape, y_valid.shape)"
   ]
  },
  {
   "cell_type": "code",
   "execution_count": 130,
   "metadata": {
    "colab": {},
    "colab_type": "code",
    "executionInfo": {
     "elapsed": 1584,
     "status": "ok",
     "timestamp": 1598870822229,
     "user": {
      "displayName": "Faizan Shaikh",
      "photoUrl": "",
      "userId": "11428351120800485612"
     },
     "user_tz": -330
    },
    "id": "pgigIeuECJjS"
   },
   "outputs": [],
   "source": [
    "# Naive bayes\n",
    "from sklearn import naive_bayes"
   ]
  },
  {
   "cell_type": "code",
   "execution_count": 131,
   "metadata": {
    "colab": {},
    "colab_type": "code",
    "executionInfo": {
     "elapsed": 1527,
     "status": "ok",
     "timestamp": 1598870979018,
     "user": {
      "displayName": "Faizan Shaikh",
      "photoUrl": "",
      "userId": "11428351120800485612"
     },
     "user_tz": -330
    },
    "id": "Yop3jxrmCJfz"
   },
   "outputs": [],
   "source": [
    "# Multinomial naive bayes\n",
    "model = naive_bayes.MultinomialNB()"
   ]
  },
  {
   "cell_type": "code",
   "execution_count": 132,
   "metadata": {
    "colab": {
     "base_uri": "https://localhost:8080/",
     "height": 34
    },
    "colab_type": "code",
    "executionInfo": {
     "elapsed": 1663,
     "status": "ok",
     "timestamp": 1598871027917,
     "user": {
      "displayName": "Faizan Shaikh",
      "photoUrl": "",
      "userId": "11428351120800485612"
     },
     "user_tz": -330
    },
    "id": "XRWvGmz8CJch",
    "outputId": "971e78b6-aaa6-4573-a634-7423c5aef0ee"
   },
   "outputs": [
    {
     "data": {
      "text/plain": [
       "MultinomialNB()"
      ]
     },
     "execution_count": 132,
     "metadata": {},
     "output_type": "execute_result"
    }
   ],
   "source": [
    "# Fit model on training data\n",
    "model.fit(x_train, y_train)"
   ]
  },
  {
   "cell_type": "code",
   "execution_count": 133,
   "metadata": {
    "colab": {},
    "colab_type": "code",
    "executionInfo": {
     "elapsed": 1471,
     "status": "ok",
     "timestamp": 1598871057808,
     "user": {
      "displayName": "Faizan Shaikh",
      "photoUrl": "",
      "userId": "11428351120800485612"
     },
     "user_tz": -330
    },
    "id": "v0oHHGzuCJbI"
   },
   "outputs": [],
   "source": [
    "# Prediction on training data\n",
    "pred_train = model.predict(x_train)\n",
    "# Prediction on validation data\n",
    "pred_valid = model.predict(x_valid)"
   ]
  },
  {
   "cell_type": "code",
   "execution_count": 134,
   "metadata": {
    "colab": {},
    "colab_type": "code",
    "executionInfo": {
     "elapsed": 1391,
     "status": "ok",
     "timestamp": 1598871071620,
     "user": {
      "displayName": "Faizan Shaikh",
      "photoUrl": "",
      "userId": "11428351120800485612"
     },
     "user_tz": -330
    },
    "id": "CjfgLTB3CJYp"
   },
   "outputs": [],
   "source": [
    "# Accuracy\n",
    "from sklearn.metrics import accuracy_score"
   ]
  },
  {
   "cell_type": "code",
   "execution_count": 135,
   "metadata": {
    "colab": {
     "base_uri": "https://localhost:8080/",
     "height": 34
    },
    "colab_type": "code",
    "executionInfo": {
     "elapsed": 842,
     "status": "ok",
     "timestamp": 1598871084888,
     "user": {
      "displayName": "Faizan Shaikh",
      "photoUrl": "",
      "userId": "11428351120800485612"
     },
     "user_tz": -330
    },
    "id": "SR-qN1pWCJXE",
    "outputId": "fbeed2a3-89e8-4fdb-b046-ceb2bb46c8b0"
   },
   "outputs": [
    {
     "data": {
      "text/plain": [
       "0.9298369118854863"
      ]
     },
     "execution_count": 135,
     "metadata": {},
     "output_type": "execute_result"
    }
   ],
   "source": [
    "# Training accuracy\n",
    "accuracy_score(y_train, pred_train)"
   ]
  },
  {
   "cell_type": "code",
   "execution_count": 136,
   "metadata": {
    "colab": {
     "base_uri": "https://localhost:8080/",
     "height": 34
    },
    "colab_type": "code",
    "executionInfo": {
     "elapsed": 1769,
     "status": "ok",
     "timestamp": 1598871088539,
     "user": {
      "displayName": "Faizan Shaikh",
      "photoUrl": "",
      "userId": "11428351120800485612"
     },
     "user_tz": -330
    },
    "id": "UZTN0rStCJTr",
    "outputId": "9e5fb4ac-8914-445e-fafb-9a35054f0925"
   },
   "outputs": [
    {
     "data": {
      "text/plain": [
       "0.9299233536680744"
      ]
     },
     "execution_count": 136,
     "metadata": {},
     "output_type": "execute_result"
    }
   ],
   "source": [
    "# Validation accuracy\n",
    "accuracy_score(y_valid, pred_valid)"
   ]
  },
  {
   "cell_type": "code",
   "execution_count": 170,
   "metadata": {},
   "outputs": [
    {
     "data": {
      "text/plain": [
       "array([0, 0, 0, ..., 0, 0, 0], dtype=int64)"
      ]
     },
     "execution_count": 170,
     "metadata": {},
     "output_type": "execute_result"
    }
   ],
   "source": [
    "pred_valid"
   ]
  },
  {
   "cell_type": "code",
   "execution_count": 137,
   "metadata": {},
   "outputs": [],
   "source": [
    "from sklearn.metrics import f1_score"
   ]
  },
  {
   "cell_type": "code",
   "execution_count": 138,
   "metadata": {},
   "outputs": [
    {
     "data": {
      "text/plain": [
       "0.0"
      ]
     },
     "execution_count": 138,
     "metadata": {},
     "output_type": "execute_result"
    }
   ],
   "source": [
    "# Training accuracy\n",
    "f1_score(y_train, pred_train)"
   ]
  },
  {
   "cell_type": "code",
   "execution_count": 139,
   "metadata": {},
   "outputs": [
    {
     "data": {
      "text/plain": [
       "0.0"
      ]
     },
     "execution_count": 139,
     "metadata": {},
     "output_type": "execute_result"
    }
   ],
   "source": [
    "f1_score(y_valid, pred_valid)"
   ]
  },
  {
   "cell_type": "code",
   "execution_count": 50,
   "metadata": {},
   "outputs": [],
   "source": [
    "#Importing the required libraries\n",
    "from sklearn import datasets\n",
    "import pandas as pd\n",
    "from sklearn.linear_model import LogisticRegression\n",
    "from sklearn.model_selection import train_test_split\n",
    "from sklearn.metrics import precision_recall_curve\n",
    "from sklearn.metrics import plot_precision_recall_curve\n",
    "from sklearn.metrics import precision_score\n",
    "from sklearn.metrics import precision_score\n",
    "from sklearn.metrics import recall_score"
   ]
  },
  {
   "cell_type": "code",
   "execution_count": 51,
   "metadata": {},
   "outputs": [
    {
     "name": "stderr",
     "output_type": "stream",
     "text": [
      "C:\\Users\\palanil\\Anaconda3\\lib\\site-packages\\sklearn\\metrics\\_classification.py:1318: UndefinedMetricWarning: Precision is ill-defined and being set to 0.0 due to no predicted samples. Use `zero_division` parameter to control this behavior.\n",
      "  _warn_prf(average, modifier, msg_start, len(result))\n"
     ]
    },
    {
     "data": {
      "text/plain": [
       "0.0"
      ]
     },
     "execution_count": 51,
     "metadata": {},
     "output_type": "execute_result"
    }
   ],
   "source": [
    "\n",
    "precision_score(y_valid,pred_valid)"
   ]
  },
  {
   "cell_type": "markdown",
   "metadata": {
    "colab_type": "text",
    "id": "DmdBILrAEBgZ"
   },
   "source": [
    "### d. Tf-idf Features"
   ]
  },
  {
   "cell_type": "code",
   "execution_count": 52,
   "metadata": {
    "colab": {},
    "colab_type": "code",
    "executionInfo": {
     "elapsed": 1527,
     "status": "ok",
     "timestamp": 1598871340957,
     "user": {
      "displayName": "Faizan Shaikh",
      "photoUrl": "",
      "userId": "11428351120800485612"
     },
     "user_tz": -330
    },
    "id": "ETnGYQaRfgKy"
   },
   "outputs": [],
   "source": [
    "# Import Tf-Idf Vectoriser\n",
    "from sklearn.feature_extraction.text import TfidfVectorizer"
   ]
  },
  {
   "cell_type": "code",
   "execution_count": 53,
   "metadata": {
    "colab": {},
    "colab_type": "code",
    "executionInfo": {
     "elapsed": 1497,
     "status": "ok",
     "timestamp": 1598871361788,
     "user": {
      "displayName": "Faizan Shaikh",
      "photoUrl": "",
      "userId": "11428351120800485612"
     },
     "user_tz": -330
    },
    "id": "qRD9KeQEfgLA"
   },
   "outputs": [],
   "source": [
    "# Tf-Idf Vectoriser\n",
    "word_tfidf = TfidfVectorizer(max_features=500)"
   ]
  },
  {
   "cell_type": "code",
   "execution_count": 54,
   "metadata": {
    "colab": {
     "base_uri": "https://localhost:8080/",
     "height": 139
    },
    "colab_type": "code",
    "executionInfo": {
     "elapsed": 1778,
     "status": "ok",
     "timestamp": 1598871377943,
     "user": {
      "displayName": "Faizan Shaikh",
      "photoUrl": "",
      "userId": "11428351120800485612"
     },
     "user_tz": -330
    },
    "id": "ijbCEDsQFb-_",
    "outputId": "71da9522-85b2-4cde-aac2-d51a48ebc90c"
   },
   "outputs": [
    {
     "data": {
      "text/plain": [
       "TfidfVectorizer(max_features=500)"
      ]
     },
     "execution_count": 54,
     "metadata": {},
     "output_type": "execute_result"
    }
   ],
   "source": [
    "# Fit Tf-Idf Vectoriser\n",
    "word_tfidf.fit(data[\"cleaned\"].values)"
   ]
  },
  {
   "cell_type": "code",
   "execution_count": 55,
   "metadata": {
    "colab": {},
    "colab_type": "code",
    "executionInfo": {
     "elapsed": 1572,
     "status": "ok",
     "timestamp": 1598871435021,
     "user": {
      "displayName": "Faizan Shaikh",
      "photoUrl": "",
      "userId": "11428351120800485612"
     },
     "user_tz": -330
    },
    "id": "qgrjR4wHFeOI"
   },
   "outputs": [],
   "source": [
    "# Transform\n",
    "word_vectors_tfidf = word_tfidf.transform(data[\"cleaned\"].values)"
   ]
  },
  {
   "cell_type": "code",
   "execution_count": 56,
   "metadata": {
    "colab": {
     "base_uri": "https://localhost:8080/",
     "height": 52
    },
    "colab_type": "code",
    "executionInfo": {
     "elapsed": 1534,
     "status": "ok",
     "timestamp": 1598871441012,
     "user": {
      "displayName": "Faizan Shaikh",
      "photoUrl": "",
      "userId": "11428351120800485612"
     },
     "user_tz": -330
    },
    "id": "cCmkMcG4Js9D",
    "outputId": "931b8430-16d9-41d2-b0cc-b5a11b4f8c35"
   },
   "outputs": [
    {
     "data": {
      "text/plain": [
       "<31962x500 sparse matrix of type '<class 'numpy.float64'>'\n",
       "\twith 72898 stored elements in Compressed Sparse Row format>"
      ]
     },
     "execution_count": 56,
     "metadata": {},
     "output_type": "execute_result"
    }
   ],
   "source": [
    "# Tf-Idf vectors\n",
    "word_vectors_tfidf"
   ]
  },
  {
   "cell_type": "code",
   "execution_count": 57,
   "metadata": {
    "colab": {},
    "colab_type": "code",
    "executionInfo": {
     "elapsed": 1745,
     "status": "ok",
     "timestamp": 1598871661901,
     "user": {
      "displayName": "Faizan Shaikh",
      "photoUrl": "",
      "userId": "11428351120800485612"
     },
     "user_tz": -330
    },
    "id": "J6f_g_D_fgLl"
   },
   "outputs": [],
   "source": [
    "# Combining meta features and Tf-Idf features\n",
    "from scipy.sparse import hstack, csr_matrix\n",
    "\n",
    "# List of meta features\n",
    "meta_features = ['word_count', 'word_count_cleand',\n",
    "       'char_count', 'char_count_without_spaces', 'num_dig', 'noun_count',\n",
    "       'verb_count']\n",
    "\n",
    "# Meta features\n",
    "feature_set1 = data[meta_features]\n",
    "\n",
    "# Combined features\n",
    "train = hstack([word_vectors_tfidf, csr_matrix(feature_set1)], \"csr\")"
   ]
  },
  {
   "cell_type": "markdown",
   "metadata": {
    "colab_type": "text",
    "id": "SAEARrMl-U3a"
   },
   "source": [
    "### e. Model Building for complete feature set"
   ]
  },
  {
   "cell_type": "code",
   "execution_count": 58,
   "metadata": {
    "colab": {},
    "colab_type": "code",
    "executionInfo": {
     "elapsed": 1648,
     "status": "ok",
     "timestamp": 1598871683727,
     "user": {
      "displayName": "Faizan Shaikh",
      "photoUrl": "",
      "userId": "11428351120800485612"
     },
     "user_tz": -330
    },
    "id": "mWar4HFJfgLz"
   },
   "outputs": [],
   "source": [
    "# Train and Validation datasets\n",
    "x_train, x_valid, y_train, y_valid = train_test_split(train, target, random_state=20, stratify=target)"
   ]
  },
  {
   "cell_type": "code",
   "execution_count": 59,
   "metadata": {
    "colab": {
     "base_uri": "https://localhost:8080/",
     "height": 34
    },
    "colab_type": "code",
    "executionInfo": {
     "elapsed": 1681,
     "status": "ok",
     "timestamp": 1598871687734,
     "user": {
      "displayName": "Faizan Shaikh",
      "photoUrl": "",
      "userId": "11428351120800485612"
     },
     "user_tz": -330
    },
    "id": "d2uUKHjNfgL9",
    "outputId": "4f95d4d6-5062-4a87-a02a-881a9b466756"
   },
   "outputs": [
    {
     "data": {
      "text/plain": [
       "(((23971, 507), (23971,)), ((7991, 507), (7991,)))"
      ]
     },
     "execution_count": 59,
     "metadata": {},
     "output_type": "execute_result"
    }
   ],
   "source": [
    "# Train and Validation datasets\n",
    "(x_train.shape, y_train.shape), (x_valid.shape, y_valid.shape)"
   ]
  },
  {
   "cell_type": "code",
   "execution_count": 60,
   "metadata": {
    "colab": {},
    "colab_type": "code",
    "executionInfo": {
     "elapsed": 1603,
     "status": "ok",
     "timestamp": 1598871743346,
     "user": {
      "displayName": "Faizan Shaikh",
      "photoUrl": "",
      "userId": "11428351120800485612"
     },
     "user_tz": -330
    },
    "id": "AfgsZtBjEzfy"
   },
   "outputs": [],
   "source": [
    "# Multinomial Naive Bayes Model\n",
    "model = naive_bayes.MultinomialNB()"
   ]
  },
  {
   "cell_type": "code",
   "execution_count": 61,
   "metadata": {
    "colab": {
     "base_uri": "https://localhost:8080/",
     "height": 34
    },
    "colab_type": "code",
    "executionInfo": {
     "elapsed": 1833,
     "status": "ok",
     "timestamp": 1598871752858,
     "user": {
      "displayName": "Faizan Shaikh",
      "photoUrl": "",
      "userId": "11428351120800485612"
     },
     "user_tz": -330
    },
    "id": "Eq-wc2aDE8y1",
    "outputId": "e9a8edde-691c-4918-baff-a2f92092edff"
   },
   "outputs": [
    {
     "data": {
      "text/plain": [
       "MultinomialNB()"
      ]
     },
     "execution_count": 61,
     "metadata": {},
     "output_type": "execute_result"
    }
   ],
   "source": [
    "# Fit model\n",
    "model.fit(x_train, y_train)"
   ]
  },
  {
   "cell_type": "code",
   "execution_count": 62,
   "metadata": {
    "colab": {},
    "colab_type": "code",
    "executionInfo": {
     "elapsed": 1385,
     "status": "ok",
     "timestamp": 1598871769639,
     "user": {
      "displayName": "Faizan Shaikh",
      "photoUrl": "",
      "userId": "11428351120800485612"
     },
     "user_tz": -330
    },
    "id": "SicnChDLE-Xp"
   },
   "outputs": [],
   "source": [
    "# Predcition on Training data\n",
    "pred_train = model.predict(x_train)\n",
    "# Predcition on Validation data\n",
    "pred_valid = model.predict(x_valid)"
   ]
  },
  {
   "cell_type": "code",
   "execution_count": 63,
   "metadata": {
    "colab": {
     "base_uri": "https://localhost:8080/",
     "height": 34
    },
    "colab_type": "code",
    "executionInfo": {
     "elapsed": 1575,
     "status": "ok",
     "timestamp": 1598871786853,
     "user": {
      "displayName": "Faizan Shaikh",
      "photoUrl": "",
      "userId": "11428351120800485612"
     },
     "user_tz": -330
    },
    "id": "tcRbI5V1FAEp",
    "outputId": "08b61aa4-0c1e-44c1-c79e-d553d2bb3089"
   },
   "outputs": [
    {
     "data": {
      "text/plain": [
       "0.9396353927662592"
      ]
     },
     "execution_count": 63,
     "metadata": {},
     "output_type": "execute_result"
    }
   ],
   "source": [
    "# Training accuracy\n",
    "accuracy_score(y_train, pred_train)"
   ]
  },
  {
   "cell_type": "code",
   "execution_count": 64,
   "metadata": {
    "colab": {
     "base_uri": "https://localhost:8080/",
     "height": 34
    },
    "colab_type": "code",
    "executionInfo": {
     "elapsed": 1128,
     "status": "ok",
     "timestamp": 1598871786855,
     "user": {
      "displayName": "Faizan Shaikh",
      "photoUrl": "",
      "userId": "11428351120800485612"
     },
     "user_tz": -330
    },
    "id": "VW0tWdGEFBso",
    "outputId": "5b95bcbd-adea-429f-edee-2db340be940b"
   },
   "outputs": [
    {
     "data": {
      "text/plain": [
       "0.9398072831935927"
      ]
     },
     "execution_count": 64,
     "metadata": {},
     "output_type": "execute_result"
    }
   ],
   "source": [
    "# Validation accuracy\n",
    "accuracy_score(y_valid, pred_valid)"
   ]
  },
  {
   "cell_type": "code",
   "execution_count": 65,
   "metadata": {
    "colab": {},
    "colab_type": "code",
    "id": "XQkYpzfcL1BX"
   },
   "outputs": [
    {
     "data": {
      "text/plain": [
       "0.2895125553914328"
      ]
     },
     "execution_count": 65,
     "metadata": {},
     "output_type": "execute_result"
    }
   ],
   "source": [
    "f1_score(y_valid, pred_valid)"
   ]
  },
  {
   "cell_type": "code",
   "execution_count": 66,
   "metadata": {},
   "outputs": [
    {
     "data": {
      "text/plain": [
       "0.299273607748184"
      ]
     },
     "execution_count": 66,
     "metadata": {},
     "output_type": "execute_result"
    }
   ],
   "source": [
    "f1_score(y_train, pred_train)"
   ]
  },
  {
   "cell_type": "code",
   "execution_count": 140,
   "metadata": {},
   "outputs": [],
   "source": [
    "test = pd.read_csv('test_tweets_anuFYb8.csv')"
   ]
  },
  {
   "cell_type": "code",
   "execution_count": 141,
   "metadata": {},
   "outputs": [
    {
     "data": {
      "text/html": [
       "<div>\n",
       "<style scoped>\n",
       "    .dataframe tbody tr th:only-of-type {\n",
       "        vertical-align: middle;\n",
       "    }\n",
       "\n",
       "    .dataframe tbody tr th {\n",
       "        vertical-align: top;\n",
       "    }\n",
       "\n",
       "    .dataframe thead th {\n",
       "        text-align: right;\n",
       "    }\n",
       "</style>\n",
       "<table border=\"1\" class=\"dataframe\">\n",
       "  <thead>\n",
       "    <tr style=\"text-align: right;\">\n",
       "      <th></th>\n",
       "      <th>id</th>\n",
       "      <th>tweet</th>\n",
       "    </tr>\n",
       "  </thead>\n",
       "  <tbody>\n",
       "    <tr>\n",
       "      <th>0</th>\n",
       "      <td>31963</td>\n",
       "      <td>#studiolife #aislife #requires #passion #dedic...</td>\n",
       "    </tr>\n",
       "    <tr>\n",
       "      <th>1</th>\n",
       "      <td>31964</td>\n",
       "      <td>@user #white #supremacists want everyone to s...</td>\n",
       "    </tr>\n",
       "    <tr>\n",
       "      <th>2</th>\n",
       "      <td>31965</td>\n",
       "      <td>safe ways to heal your #acne!!    #altwaystohe...</td>\n",
       "    </tr>\n",
       "    <tr>\n",
       "      <th>3</th>\n",
       "      <td>31966</td>\n",
       "      <td>is the hp and the cursed child book up for res...</td>\n",
       "    </tr>\n",
       "    <tr>\n",
       "      <th>4</th>\n",
       "      <td>31967</td>\n",
       "      <td>3rd #bihday to my amazing, hilarious #nephew...</td>\n",
       "    </tr>\n",
       "  </tbody>\n",
       "</table>\n",
       "</div>"
      ],
      "text/plain": [
       "      id                                              tweet\n",
       "0  31963  #studiolife #aislife #requires #passion #dedic...\n",
       "1  31964   @user #white #supremacists want everyone to s...\n",
       "2  31965  safe ways to heal your #acne!!    #altwaystohe...\n",
       "3  31966  is the hp and the cursed child book up for res...\n",
       "4  31967    3rd #bihday to my amazing, hilarious #nephew..."
      ]
     },
     "execution_count": 141,
     "metadata": {},
     "output_type": "execute_result"
    }
   ],
   "source": [
    "test.head()"
   ]
  },
  {
   "cell_type": "code",
   "execution_count": 142,
   "metadata": {},
   "outputs": [],
   "source": [
    "test[\"cleaned\"] = test[\"tweet\"].apply(lambda x : clean_text(x))"
   ]
  },
  {
   "cell_type": "code",
   "execution_count": 143,
   "metadata": {},
   "outputs": [
    {
     "data": {
      "text/html": [
       "<div>\n",
       "<style scoped>\n",
       "    .dataframe tbody tr th:only-of-type {\n",
       "        vertical-align: middle;\n",
       "    }\n",
       "\n",
       "    .dataframe tbody tr th {\n",
       "        vertical-align: top;\n",
       "    }\n",
       "\n",
       "    .dataframe thead th {\n",
       "        text-align: right;\n",
       "    }\n",
       "</style>\n",
       "<table border=\"1\" class=\"dataframe\">\n",
       "  <thead>\n",
       "    <tr style=\"text-align: right;\">\n",
       "      <th></th>\n",
       "      <th>id</th>\n",
       "      <th>tweet</th>\n",
       "      <th>cleaned</th>\n",
       "    </tr>\n",
       "  </thead>\n",
       "  <tbody>\n",
       "    <tr>\n",
       "      <th>0</th>\n",
       "      <td>31963</td>\n",
       "      <td>#studiolife #aislife #requires #passion #dedic...</td>\n",
       "      <td>find  ¦</td>\n",
       "    </tr>\n",
       "    <tr>\n",
       "      <th>1</th>\n",
       "      <td>31964</td>\n",
       "      <td>@user #white #supremacists want everyone to s...</td>\n",
       "      <td>want new â      â hereâs</td>\n",
       "    </tr>\n",
       "    <tr>\n",
       "      <th>2</th>\n",
       "      <td>31965</td>\n",
       "      <td>safe ways to heal your #acne!!    #altwaystohe...</td>\n",
       "      <td>safe ways heal</td>\n",
       "    </tr>\n",
       "    <tr>\n",
       "      <th>3</th>\n",
       "      <td>31966</td>\n",
       "      <td>is the hp and the cursed child book up for res...</td>\n",
       "      <td>hp cursed child book reservations yes ðð...</td>\n",
       "    </tr>\n",
       "    <tr>\n",
       "      <th>4</th>\n",
       "      <td>31967</td>\n",
       "      <td>3rd #bihday to my amazing, hilarious #nephew...</td>\n",
       "      <td>3rd   amazing hilarious   eli ahmir uncle d...</td>\n",
       "    </tr>\n",
       "  </tbody>\n",
       "</table>\n",
       "</div>"
      ],
      "text/plain": [
       "      id                                              tweet  \\\n",
       "0  31963  #studiolife #aislife #requires #passion #dedic...   \n",
       "1  31964   @user #white #supremacists want everyone to s...   \n",
       "2  31965  safe ways to heal your #acne!!    #altwaystohe...   \n",
       "3  31966  is the hp and the cursed child book up for res...   \n",
       "4  31967    3rd #bihday to my amazing, hilarious #nephew...   \n",
       "\n",
       "                                             cleaned  \n",
       "0                                           find  ¦  \n",
       "1                 want new â      â hereâs    \n",
       "2                           safe ways heal            \n",
       "3  hp cursed child book reservations yes ðð...  \n",
       "4     3rd   amazing hilarious   eli ahmir uncle d...  "
      ]
     },
     "execution_count": 143,
     "metadata": {},
     "output_type": "execute_result"
    }
   ],
   "source": [
    "test.head()"
   ]
  },
  {
   "cell_type": "code",
   "execution_count": 144,
   "metadata": {},
   "outputs": [],
   "source": [
    "# Creating meta features\n",
    "\n",
    "# Number of words in original text\n",
    "test[\"word_count\"] = test[\"tweet\"].apply(lambda x : len(x.split()))\n",
    "# Number of words in cleaned text\n",
    "test[\"word_count_cleand\"] = test[\"cleaned\"].apply(lambda x : len(x.split()))\n",
    "\n",
    "# Number of characters including spaces in the cleaned text\n",
    "test[\"char_count\"] = test[\"cleaned\"].apply(lambda x : len(x))\n",
    "# number of characters excluding spaces in the cleaned text\n",
    "test[\"char_count_without_spaces\"] = test[\"cleaned\"].apply(lambda x : len(x.replace(\" \",\"\")))\n",
    "\n",
    "# Number of digits in the cleaned text\n",
    "test[\"num_dig\"] = test[\"cleaned\"].apply(lambda x :  sum([1 if w.isdigit() else 0 for w in x.split()]))"
   ]
  },
  {
   "cell_type": "code",
   "execution_count": 145,
   "metadata": {},
   "outputs": [
    {
     "data": {
      "text/html": [
       "<div>\n",
       "<style scoped>\n",
       "    .dataframe tbody tr th:only-of-type {\n",
       "        vertical-align: middle;\n",
       "    }\n",
       "\n",
       "    .dataframe tbody tr th {\n",
       "        vertical-align: top;\n",
       "    }\n",
       "\n",
       "    .dataframe thead th {\n",
       "        text-align: right;\n",
       "    }\n",
       "</style>\n",
       "<table border=\"1\" class=\"dataframe\">\n",
       "  <thead>\n",
       "    <tr style=\"text-align: right;\">\n",
       "      <th></th>\n",
       "      <th>id</th>\n",
       "      <th>tweet</th>\n",
       "      <th>cleaned</th>\n",
       "      <th>word_count</th>\n",
       "      <th>word_count_cleand</th>\n",
       "      <th>char_count</th>\n",
       "      <th>char_count_without_spaces</th>\n",
       "      <th>num_dig</th>\n",
       "    </tr>\n",
       "  </thead>\n",
       "  <tbody>\n",
       "    <tr>\n",
       "      <th>0</th>\n",
       "      <td>31963</td>\n",
       "      <td>#studiolife #aislife #requires #passion #dedic...</td>\n",
       "      <td>find  ¦</td>\n",
       "      <td>9</td>\n",
       "      <td>3</td>\n",
       "      <td>17</td>\n",
       "      <td>6</td>\n",
       "      <td>0</td>\n",
       "    </tr>\n",
       "    <tr>\n",
       "      <th>1</th>\n",
       "      <td>31964</td>\n",
       "      <td>@user #white #supremacists want everyone to s...</td>\n",
       "      <td>want new â      â hereâs</td>\n",
       "      <td>16</td>\n",
       "      <td>6</td>\n",
       "      <td>39</td>\n",
       "      <td>23</td>\n",
       "      <td>0</td>\n",
       "    </tr>\n",
       "    <tr>\n",
       "      <th>2</th>\n",
       "      <td>31965</td>\n",
       "      <td>safe ways to heal your #acne!!    #altwaystohe...</td>\n",
       "      <td>safe ways heal</td>\n",
       "      <td>9</td>\n",
       "      <td>3</td>\n",
       "      <td>24</td>\n",
       "      <td>12</td>\n",
       "      <td>0</td>\n",
       "    </tr>\n",
       "    <tr>\n",
       "      <th>3</th>\n",
       "      <td>31966</td>\n",
       "      <td>is the hp and the cursed child book up for res...</td>\n",
       "      <td>hp cursed child book reservations yes ðð...</td>\n",
       "      <td>22</td>\n",
       "      <td>7</td>\n",
       "      <td>55</td>\n",
       "      <td>44</td>\n",
       "      <td>0</td>\n",
       "    </tr>\n",
       "    <tr>\n",
       "      <th>4</th>\n",
       "      <td>31967</td>\n",
       "      <td>3rd #bihday to my amazing, hilarious #nephew...</td>\n",
       "      <td>3rd   amazing hilarious   eli ahmir uncle d...</td>\n",
       "      <td>15</td>\n",
       "      <td>10</td>\n",
       "      <td>66</td>\n",
       "      <td>50</td>\n",
       "      <td>0</td>\n",
       "    </tr>\n",
       "  </tbody>\n",
       "</table>\n",
       "</div>"
      ],
      "text/plain": [
       "      id                                              tweet  \\\n",
       "0  31963  #studiolife #aislife #requires #passion #dedic...   \n",
       "1  31964   @user #white #supremacists want everyone to s...   \n",
       "2  31965  safe ways to heal your #acne!!    #altwaystohe...   \n",
       "3  31966  is the hp and the cursed child book up for res...   \n",
       "4  31967    3rd #bihday to my amazing, hilarious #nephew...   \n",
       "\n",
       "                                             cleaned  word_count  \\\n",
       "0                                           find  ¦           9   \n",
       "1                 want new â      â hereâs            16   \n",
       "2                           safe ways heal                     9   \n",
       "3  hp cursed child book reservations yes ðð...          22   \n",
       "4     3rd   amazing hilarious   eli ahmir uncle d...          15   \n",
       "\n",
       "   word_count_cleand  char_count  char_count_without_spaces  num_dig  \n",
       "0                  3          17                          6        0  \n",
       "1                  6          39                         23        0  \n",
       "2                  3          24                         12        0  \n",
       "3                  7          55                         44        0  \n",
       "4                 10          66                         50        0  "
      ]
     },
     "execution_count": 145,
     "metadata": {},
     "output_type": "execute_result"
    }
   ],
   "source": [
    "test.head()"
   ]
  },
  {
   "cell_type": "code",
   "execution_count": 146,
   "metadata": {},
   "outputs": [],
   "source": [
    "# Applying the function\n",
    "test[\"noun_count\"] = test[\"cleaned\"].apply(lambda x : pos_check(x, \"noun\"))\n",
    "test[\"verb_count\"] = test[\"cleaned\"].apply(lambda x : pos_check(x, \"verb\"))"
   ]
  },
  {
   "cell_type": "code",
   "execution_count": 147,
   "metadata": {},
   "outputs": [
    {
     "data": {
      "text/html": [
       "<div>\n",
       "<style scoped>\n",
       "    .dataframe tbody tr th:only-of-type {\n",
       "        vertical-align: middle;\n",
       "    }\n",
       "\n",
       "    .dataframe tbody tr th {\n",
       "        vertical-align: top;\n",
       "    }\n",
       "\n",
       "    .dataframe thead th {\n",
       "        text-align: right;\n",
       "    }\n",
       "</style>\n",
       "<table border=\"1\" class=\"dataframe\">\n",
       "  <thead>\n",
       "    <tr style=\"text-align: right;\">\n",
       "      <th></th>\n",
       "      <th>id</th>\n",
       "      <th>tweet</th>\n",
       "      <th>cleaned</th>\n",
       "      <th>word_count</th>\n",
       "      <th>word_count_cleand</th>\n",
       "      <th>char_count</th>\n",
       "      <th>char_count_without_spaces</th>\n",
       "      <th>num_dig</th>\n",
       "      <th>noun_count</th>\n",
       "      <th>verb_count</th>\n",
       "    </tr>\n",
       "  </thead>\n",
       "  <tbody>\n",
       "    <tr>\n",
       "      <th>0</th>\n",
       "      <td>31963</td>\n",
       "      <td>#studiolife #aislife #requires #passion #dedic...</td>\n",
       "      <td>find  ¦</td>\n",
       "      <td>9</td>\n",
       "      <td>3</td>\n",
       "      <td>17</td>\n",
       "      <td>6</td>\n",
       "      <td>0</td>\n",
       "      <td>1</td>\n",
       "      <td>0</td>\n",
       "    </tr>\n",
       "    <tr>\n",
       "      <th>1</th>\n",
       "      <td>31964</td>\n",
       "      <td>@user #white #supremacists want everyone to s...</td>\n",
       "      <td>want new â      â hereâs</td>\n",
       "      <td>16</td>\n",
       "      <td>6</td>\n",
       "      <td>39</td>\n",
       "      <td>23</td>\n",
       "      <td>0</td>\n",
       "      <td>3</td>\n",
       "      <td>0</td>\n",
       "    </tr>\n",
       "    <tr>\n",
       "      <th>2</th>\n",
       "      <td>31965</td>\n",
       "      <td>safe ways to heal your #acne!!    #altwaystohe...</td>\n",
       "      <td>safe ways heal</td>\n",
       "      <td>9</td>\n",
       "      <td>3</td>\n",
       "      <td>24</td>\n",
       "      <td>12</td>\n",
       "      <td>0</td>\n",
       "      <td>1</td>\n",
       "      <td>0</td>\n",
       "    </tr>\n",
       "    <tr>\n",
       "      <th>3</th>\n",
       "      <td>31966</td>\n",
       "      <td>is the hp and the cursed child book up for res...</td>\n",
       "      <td>hp cursed child book reservations yes ðð...</td>\n",
       "      <td>22</td>\n",
       "      <td>7</td>\n",
       "      <td>55</td>\n",
       "      <td>44</td>\n",
       "      <td>0</td>\n",
       "      <td>4</td>\n",
       "      <td>1</td>\n",
       "    </tr>\n",
       "    <tr>\n",
       "      <th>4</th>\n",
       "      <td>31967</td>\n",
       "      <td>3rd #bihday to my amazing, hilarious #nephew...</td>\n",
       "      <td>3rd   amazing hilarious   eli ahmir uncle d...</td>\n",
       "      <td>15</td>\n",
       "      <td>10</td>\n",
       "      <td>66</td>\n",
       "      <td>50</td>\n",
       "      <td>0</td>\n",
       "      <td>7</td>\n",
       "      <td>1</td>\n",
       "    </tr>\n",
       "  </tbody>\n",
       "</table>\n",
       "</div>"
      ],
      "text/plain": [
       "      id                                              tweet  \\\n",
       "0  31963  #studiolife #aislife #requires #passion #dedic...   \n",
       "1  31964   @user #white #supremacists want everyone to s...   \n",
       "2  31965  safe ways to heal your #acne!!    #altwaystohe...   \n",
       "3  31966  is the hp and the cursed child book up for res...   \n",
       "4  31967    3rd #bihday to my amazing, hilarious #nephew...   \n",
       "\n",
       "                                             cleaned  word_count  \\\n",
       "0                                           find  ¦           9   \n",
       "1                 want new â      â hereâs            16   \n",
       "2                           safe ways heal                     9   \n",
       "3  hp cursed child book reservations yes ðð...          22   \n",
       "4     3rd   amazing hilarious   eli ahmir uncle d...          15   \n",
       "\n",
       "   word_count_cleand  char_count  char_count_without_spaces  num_dig  \\\n",
       "0                  3          17                          6        0   \n",
       "1                  6          39                         23        0   \n",
       "2                  3          24                         12        0   \n",
       "3                  7          55                         44        0   \n",
       "4                 10          66                         50        0   \n",
       "\n",
       "   noun_count  verb_count  \n",
       "0           1           0  \n",
       "1           3           0  \n",
       "2           1           0  \n",
       "3           4           1  \n",
       "4           7           1  "
      ]
     },
     "execution_count": 147,
     "metadata": {},
     "output_type": "execute_result"
    }
   ],
   "source": [
    "test.head()"
   ]
  },
  {
   "cell_type": "code",
   "execution_count": 148,
   "metadata": {},
   "outputs": [],
   "source": [
    "# List of features\n",
    "test_data = test[['word_count', 'word_count_cleand', 'char_count', \n",
    "              'char_count_without_spaces', 'num_dig', 'noun_count', \n",
    "              'verb_count']]"
   ]
  },
  {
   "cell_type": "code",
   "execution_count": 149,
   "metadata": {},
   "outputs": [
    {
     "data": {
      "text/html": [
       "<div>\n",
       "<style scoped>\n",
       "    .dataframe tbody tr th:only-of-type {\n",
       "        vertical-align: middle;\n",
       "    }\n",
       "\n",
       "    .dataframe tbody tr th {\n",
       "        vertical-align: top;\n",
       "    }\n",
       "\n",
       "    .dataframe thead th {\n",
       "        text-align: right;\n",
       "    }\n",
       "</style>\n",
       "<table border=\"1\" class=\"dataframe\">\n",
       "  <thead>\n",
       "    <tr style=\"text-align: right;\">\n",
       "      <th></th>\n",
       "      <th>word_count</th>\n",
       "      <th>word_count_cleand</th>\n",
       "      <th>char_count</th>\n",
       "      <th>char_count_without_spaces</th>\n",
       "      <th>num_dig</th>\n",
       "      <th>noun_count</th>\n",
       "      <th>verb_count</th>\n",
       "    </tr>\n",
       "  </thead>\n",
       "  <tbody>\n",
       "    <tr>\n",
       "      <th>0</th>\n",
       "      <td>9</td>\n",
       "      <td>3</td>\n",
       "      <td>17</td>\n",
       "      <td>6</td>\n",
       "      <td>0</td>\n",
       "      <td>1</td>\n",
       "      <td>0</td>\n",
       "    </tr>\n",
       "    <tr>\n",
       "      <th>1</th>\n",
       "      <td>16</td>\n",
       "      <td>6</td>\n",
       "      <td>39</td>\n",
       "      <td>23</td>\n",
       "      <td>0</td>\n",
       "      <td>3</td>\n",
       "      <td>0</td>\n",
       "    </tr>\n",
       "    <tr>\n",
       "      <th>2</th>\n",
       "      <td>9</td>\n",
       "      <td>3</td>\n",
       "      <td>24</td>\n",
       "      <td>12</td>\n",
       "      <td>0</td>\n",
       "      <td>1</td>\n",
       "      <td>0</td>\n",
       "    </tr>\n",
       "    <tr>\n",
       "      <th>3</th>\n",
       "      <td>22</td>\n",
       "      <td>7</td>\n",
       "      <td>55</td>\n",
       "      <td>44</td>\n",
       "      <td>0</td>\n",
       "      <td>4</td>\n",
       "      <td>1</td>\n",
       "    </tr>\n",
       "    <tr>\n",
       "      <th>4</th>\n",
       "      <td>15</td>\n",
       "      <td>10</td>\n",
       "      <td>66</td>\n",
       "      <td>50</td>\n",
       "      <td>0</td>\n",
       "      <td>7</td>\n",
       "      <td>1</td>\n",
       "    </tr>\n",
       "    <tr>\n",
       "      <th>...</th>\n",
       "      <td>...</td>\n",
       "      <td>...</td>\n",
       "      <td>...</td>\n",
       "      <td>...</td>\n",
       "      <td>...</td>\n",
       "      <td>...</td>\n",
       "      <td>...</td>\n",
       "    </tr>\n",
       "    <tr>\n",
       "      <th>17192</th>\n",
       "      <td>11</td>\n",
       "      <td>5</td>\n",
       "      <td>50</td>\n",
       "      <td>38</td>\n",
       "      <td>0</td>\n",
       "      <td>4</td>\n",
       "      <td>1</td>\n",
       "    </tr>\n",
       "    <tr>\n",
       "      <th>17193</th>\n",
       "      <td>13</td>\n",
       "      <td>6</td>\n",
       "      <td>39</td>\n",
       "      <td>25</td>\n",
       "      <td>0</td>\n",
       "      <td>2</td>\n",
       "      <td>3</td>\n",
       "    </tr>\n",
       "    <tr>\n",
       "      <th>17194</th>\n",
       "      <td>17</td>\n",
       "      <td>7</td>\n",
       "      <td>61</td>\n",
       "      <td>46</td>\n",
       "      <td>0</td>\n",
       "      <td>6</td>\n",
       "      <td>0</td>\n",
       "    </tr>\n",
       "    <tr>\n",
       "      <th>17195</th>\n",
       "      <td>12</td>\n",
       "      <td>8</td>\n",
       "      <td>81</td>\n",
       "      <td>69</td>\n",
       "      <td>0</td>\n",
       "      <td>5</td>\n",
       "      <td>1</td>\n",
       "    </tr>\n",
       "    <tr>\n",
       "      <th>17196</th>\n",
       "      <td>9</td>\n",
       "      <td>4</td>\n",
       "      <td>30</td>\n",
       "      <td>20</td>\n",
       "      <td>0</td>\n",
       "      <td>3</td>\n",
       "      <td>0</td>\n",
       "    </tr>\n",
       "  </tbody>\n",
       "</table>\n",
       "<p>17197 rows × 7 columns</p>\n",
       "</div>"
      ],
      "text/plain": [
       "       word_count  word_count_cleand  char_count  char_count_without_spaces  \\\n",
       "0               9                  3          17                          6   \n",
       "1              16                  6          39                         23   \n",
       "2               9                  3          24                         12   \n",
       "3              22                  7          55                         44   \n",
       "4              15                 10          66                         50   \n",
       "...           ...                ...         ...                        ...   \n",
       "17192          11                  5          50                         38   \n",
       "17193          13                  6          39                         25   \n",
       "17194          17                  7          61                         46   \n",
       "17195          12                  8          81                         69   \n",
       "17196           9                  4          30                         20   \n",
       "\n",
       "       num_dig  noun_count  verb_count  \n",
       "0            0           1           0  \n",
       "1            0           3           0  \n",
       "2            0           1           0  \n",
       "3            0           4           1  \n",
       "4            0           7           1  \n",
       "...        ...         ...         ...  \n",
       "17192        0           4           1  \n",
       "17193        0           2           3  \n",
       "17194        0           6           0  \n",
       "17195        0           5           1  \n",
       "17196        0           3           0  \n",
       "\n",
       "[17197 rows x 7 columns]"
      ]
     },
     "execution_count": 149,
     "metadata": {},
     "output_type": "execute_result"
    }
   ],
   "source": [
    "test_data"
   ]
  },
  {
   "cell_type": "code",
   "execution_count": 150,
   "metadata": {},
   "outputs": [],
   "source": [
    "test3 = model.predict(test_data)"
   ]
  },
  {
   "cell_type": "code",
   "execution_count": 151,
   "metadata": {},
   "outputs": [],
   "source": [
    "test_data_list = model.predict(test_data)"
   ]
  },
  {
   "cell_type": "code",
   "execution_count": 152,
   "metadata": {},
   "outputs": [
    {
     "data": {
      "text/plain": [
       "array([0, 0, 0, ..., 0, 0, 0], dtype=int64)"
      ]
     },
     "execution_count": 152,
     "metadata": {},
     "output_type": "execute_result"
    }
   ],
   "source": [
    "test_data_list"
   ]
  },
  {
   "cell_type": "code",
   "execution_count": 153,
   "metadata": {},
   "outputs": [],
   "source": [
    "final_testing = test"
   ]
  },
  {
   "cell_type": "code",
   "execution_count": 157,
   "metadata": {},
   "outputs": [
    {
     "data": {
      "text/html": [
       "<div>\n",
       "<style scoped>\n",
       "    .dataframe tbody tr th:only-of-type {\n",
       "        vertical-align: middle;\n",
       "    }\n",
       "\n",
       "    .dataframe tbody tr th {\n",
       "        vertical-align: top;\n",
       "    }\n",
       "\n",
       "    .dataframe thead th {\n",
       "        text-align: right;\n",
       "    }\n",
       "</style>\n",
       "<table border=\"1\" class=\"dataframe\">\n",
       "  <thead>\n",
       "    <tr style=\"text-align: right;\">\n",
       "      <th></th>\n",
       "      <th>id</th>\n",
       "      <th>tweet</th>\n",
       "      <th>word_count_cleand</th>\n",
       "      <th>char_count</th>\n",
       "      <th>char_count_without_spaces</th>\n",
       "      <th>num_dig</th>\n",
       "      <th>noun_count</th>\n",
       "      <th>verb_count</th>\n",
       "    </tr>\n",
       "  </thead>\n",
       "  <tbody>\n",
       "    <tr>\n",
       "      <th>0</th>\n",
       "      <td>31963</td>\n",
       "      <td>#studiolife #aislife #requires #passion #dedic...</td>\n",
       "      <td>3</td>\n",
       "      <td>17</td>\n",
       "      <td>6</td>\n",
       "      <td>0</td>\n",
       "      <td>1</td>\n",
       "      <td>0</td>\n",
       "    </tr>\n",
       "    <tr>\n",
       "      <th>1</th>\n",
       "      <td>31964</td>\n",
       "      <td>@user #white #supremacists want everyone to s...</td>\n",
       "      <td>6</td>\n",
       "      <td>39</td>\n",
       "      <td>23</td>\n",
       "      <td>0</td>\n",
       "      <td>3</td>\n",
       "      <td>0</td>\n",
       "    </tr>\n",
       "    <tr>\n",
       "      <th>2</th>\n",
       "      <td>31965</td>\n",
       "      <td>safe ways to heal your #acne!!    #altwaystohe...</td>\n",
       "      <td>3</td>\n",
       "      <td>24</td>\n",
       "      <td>12</td>\n",
       "      <td>0</td>\n",
       "      <td>1</td>\n",
       "      <td>0</td>\n",
       "    </tr>\n",
       "    <tr>\n",
       "      <th>3</th>\n",
       "      <td>31966</td>\n",
       "      <td>is the hp and the cursed child book up for res...</td>\n",
       "      <td>7</td>\n",
       "      <td>55</td>\n",
       "      <td>44</td>\n",
       "      <td>0</td>\n",
       "      <td>4</td>\n",
       "      <td>1</td>\n",
       "    </tr>\n",
       "    <tr>\n",
       "      <th>4</th>\n",
       "      <td>31967</td>\n",
       "      <td>3rd #bihday to my amazing, hilarious #nephew...</td>\n",
       "      <td>10</td>\n",
       "      <td>66</td>\n",
       "      <td>50</td>\n",
       "      <td>0</td>\n",
       "      <td>7</td>\n",
       "      <td>1</td>\n",
       "    </tr>\n",
       "    <tr>\n",
       "      <th>...</th>\n",
       "      <td>...</td>\n",
       "      <td>...</td>\n",
       "      <td>...</td>\n",
       "      <td>...</td>\n",
       "      <td>...</td>\n",
       "      <td>...</td>\n",
       "      <td>...</td>\n",
       "      <td>...</td>\n",
       "    </tr>\n",
       "    <tr>\n",
       "      <th>17192</th>\n",
       "      <td>49155</td>\n",
       "      <td>thought factory: left-right polarisation! #tru...</td>\n",
       "      <td>5</td>\n",
       "      <td>50</td>\n",
       "      <td>38</td>\n",
       "      <td>0</td>\n",
       "      <td>4</td>\n",
       "      <td>1</td>\n",
       "    </tr>\n",
       "    <tr>\n",
       "      <th>17193</th>\n",
       "      <td>49156</td>\n",
       "      <td>feeling like a mermaid ð #hairflip #neverre...</td>\n",
       "      <td>6</td>\n",
       "      <td>39</td>\n",
       "      <td>25</td>\n",
       "      <td>0</td>\n",
       "      <td>2</td>\n",
       "      <td>3</td>\n",
       "    </tr>\n",
       "    <tr>\n",
       "      <th>17194</th>\n",
       "      <td>49157</td>\n",
       "      <td>#hillary #campaigned today in #ohio((omg)) &amp;am...</td>\n",
       "      <td>7</td>\n",
       "      <td>61</td>\n",
       "      <td>46</td>\n",
       "      <td>0</td>\n",
       "      <td>6</td>\n",
       "      <td>0</td>\n",
       "    </tr>\n",
       "    <tr>\n",
       "      <th>17195</th>\n",
       "      <td>49158</td>\n",
       "      <td>happy, at work conference: right mindset leads...</td>\n",
       "      <td>8</td>\n",
       "      <td>81</td>\n",
       "      <td>69</td>\n",
       "      <td>0</td>\n",
       "      <td>5</td>\n",
       "      <td>1</td>\n",
       "    </tr>\n",
       "    <tr>\n",
       "      <th>17196</th>\n",
       "      <td>49159</td>\n",
       "      <td>my   song \"so glad\" free download!  #shoegaze ...</td>\n",
       "      <td>4</td>\n",
       "      <td>30</td>\n",
       "      <td>20</td>\n",
       "      <td>0</td>\n",
       "      <td>3</td>\n",
       "      <td>0</td>\n",
       "    </tr>\n",
       "  </tbody>\n",
       "</table>\n",
       "<p>17197 rows × 8 columns</p>\n",
       "</div>"
      ],
      "text/plain": [
       "          id                                              tweet  \\\n",
       "0      31963  #studiolife #aislife #requires #passion #dedic...   \n",
       "1      31964   @user #white #supremacists want everyone to s...   \n",
       "2      31965  safe ways to heal your #acne!!    #altwaystohe...   \n",
       "3      31966  is the hp and the cursed child book up for res...   \n",
       "4      31967    3rd #bihday to my amazing, hilarious #nephew...   \n",
       "...      ...                                                ...   \n",
       "17192  49155  thought factory: left-right polarisation! #tru...   \n",
       "17193  49156  feeling like a mermaid ð #hairflip #neverre...   \n",
       "17194  49157  #hillary #campaigned today in #ohio((omg)) &am...   \n",
       "17195  49158  happy, at work conference: right mindset leads...   \n",
       "17196  49159  my   song \"so glad\" free download!  #shoegaze ...   \n",
       "\n",
       "       word_count_cleand  char_count  char_count_without_spaces  num_dig  \\\n",
       "0                      3          17                          6        0   \n",
       "1                      6          39                         23        0   \n",
       "2                      3          24                         12        0   \n",
       "3                      7          55                         44        0   \n",
       "4                     10          66                         50        0   \n",
       "...                  ...         ...                        ...      ...   \n",
       "17192                  5          50                         38        0   \n",
       "17193                  6          39                         25        0   \n",
       "17194                  7          61                         46        0   \n",
       "17195                  8          81                         69        0   \n",
       "17196                  4          30                         20        0   \n",
       "\n",
       "       noun_count  verb_count  \n",
       "0               1           0  \n",
       "1               3           0  \n",
       "2               1           0  \n",
       "3               4           1  \n",
       "4               7           1  \n",
       "...           ...         ...  \n",
       "17192           4           1  \n",
       "17193           2           3  \n",
       "17194           6           0  \n",
       "17195           5           1  \n",
       "17196           3           0  \n",
       "\n",
       "[17197 rows x 8 columns]"
      ]
     },
     "execution_count": 157,
     "metadata": {},
     "output_type": "execute_result"
    }
   ],
   "source": [
    "final_testing.drop(['cleaned','word_count'],axis=1)"
   ]
  },
  {
   "cell_type": "code",
   "execution_count": 158,
   "metadata": {},
   "outputs": [
    {
     "data": {
      "text/html": [
       "<div>\n",
       "<style scoped>\n",
       "    .dataframe tbody tr th:only-of-type {\n",
       "        vertical-align: middle;\n",
       "    }\n",
       "\n",
       "    .dataframe tbody tr th {\n",
       "        vertical-align: top;\n",
       "    }\n",
       "\n",
       "    .dataframe thead th {\n",
       "        text-align: right;\n",
       "    }\n",
       "</style>\n",
       "<table border=\"1\" class=\"dataframe\">\n",
       "  <thead>\n",
       "    <tr style=\"text-align: right;\">\n",
       "      <th></th>\n",
       "      <th>id</th>\n",
       "      <th>tweet</th>\n",
       "      <th>cleaned</th>\n",
       "      <th>word_count</th>\n",
       "      <th>char_count_without_spaces</th>\n",
       "      <th>num_dig</th>\n",
       "      <th>noun_count</th>\n",
       "      <th>verb_count</th>\n",
       "    </tr>\n",
       "  </thead>\n",
       "  <tbody>\n",
       "    <tr>\n",
       "      <th>0</th>\n",
       "      <td>31963</td>\n",
       "      <td>#studiolife #aislife #requires #passion #dedic...</td>\n",
       "      <td>find  ¦</td>\n",
       "      <td>9</td>\n",
       "      <td>6</td>\n",
       "      <td>0</td>\n",
       "      <td>1</td>\n",
       "      <td>0</td>\n",
       "    </tr>\n",
       "    <tr>\n",
       "      <th>1</th>\n",
       "      <td>31964</td>\n",
       "      <td>@user #white #supremacists want everyone to s...</td>\n",
       "      <td>want new â      â hereâs</td>\n",
       "      <td>16</td>\n",
       "      <td>23</td>\n",
       "      <td>0</td>\n",
       "      <td>3</td>\n",
       "      <td>0</td>\n",
       "    </tr>\n",
       "    <tr>\n",
       "      <th>2</th>\n",
       "      <td>31965</td>\n",
       "      <td>safe ways to heal your #acne!!    #altwaystohe...</td>\n",
       "      <td>safe ways heal</td>\n",
       "      <td>9</td>\n",
       "      <td>12</td>\n",
       "      <td>0</td>\n",
       "      <td>1</td>\n",
       "      <td>0</td>\n",
       "    </tr>\n",
       "    <tr>\n",
       "      <th>3</th>\n",
       "      <td>31966</td>\n",
       "      <td>is the hp and the cursed child book up for res...</td>\n",
       "      <td>hp cursed child book reservations yes ðð...</td>\n",
       "      <td>22</td>\n",
       "      <td>44</td>\n",
       "      <td>0</td>\n",
       "      <td>4</td>\n",
       "      <td>1</td>\n",
       "    </tr>\n",
       "    <tr>\n",
       "      <th>4</th>\n",
       "      <td>31967</td>\n",
       "      <td>3rd #bihday to my amazing, hilarious #nephew...</td>\n",
       "      <td>3rd   amazing hilarious   eli ahmir uncle d...</td>\n",
       "      <td>15</td>\n",
       "      <td>50</td>\n",
       "      <td>0</td>\n",
       "      <td>7</td>\n",
       "      <td>1</td>\n",
       "    </tr>\n",
       "    <tr>\n",
       "      <th>...</th>\n",
       "      <td>...</td>\n",
       "      <td>...</td>\n",
       "      <td>...</td>\n",
       "      <td>...</td>\n",
       "      <td>...</td>\n",
       "      <td>...</td>\n",
       "      <td>...</td>\n",
       "      <td>...</td>\n",
       "    </tr>\n",
       "    <tr>\n",
       "      <th>17192</th>\n",
       "      <td>49155</td>\n",
       "      <td>thought factory: left-right polarisation! #tru...</td>\n",
       "      <td>thought factory leftright polarisation        ...</td>\n",
       "      <td>11</td>\n",
       "      <td>38</td>\n",
       "      <td>0</td>\n",
       "      <td>4</td>\n",
       "      <td>1</td>\n",
       "    </tr>\n",
       "    <tr>\n",
       "      <th>17193</th>\n",
       "      <td>49156</td>\n",
       "      <td>feeling like a mermaid ð #hairflip #neverre...</td>\n",
       "      <td>feeling like mermaid ð          â ¦</td>\n",
       "      <td>13</td>\n",
       "      <td>25</td>\n",
       "      <td>0</td>\n",
       "      <td>2</td>\n",
       "      <td>3</td>\n",
       "    </tr>\n",
       "    <tr>\n",
       "      <th>17194</th>\n",
       "      <td>49157</td>\n",
       "      <td>#hillary #campaigned today in #ohio((omg)) &amp;am...</td>\n",
       "      <td>today omg amp words like assetsampliability...</td>\n",
       "      <td>17</td>\n",
       "      <td>46</td>\n",
       "      <td>0</td>\n",
       "      <td>6</td>\n",
       "      <td>0</td>\n",
       "    </tr>\n",
       "    <tr>\n",
       "      <th>17195</th>\n",
       "      <td>49158</td>\n",
       "      <td>happy, at work conference: right mindset leads...</td>\n",
       "      <td>happy work conference right mindset leads cult...</td>\n",
       "      <td>12</td>\n",
       "      <td>69</td>\n",
       "      <td>0</td>\n",
       "      <td>5</td>\n",
       "      <td>1</td>\n",
       "    </tr>\n",
       "    <tr>\n",
       "      <th>17196</th>\n",
       "      <td>49159</td>\n",
       "      <td>my   song \"so glad\" free download!  #shoegaze ...</td>\n",
       "      <td>song glad free download</td>\n",
       "      <td>9</td>\n",
       "      <td>20</td>\n",
       "      <td>0</td>\n",
       "      <td>3</td>\n",
       "      <td>0</td>\n",
       "    </tr>\n",
       "  </tbody>\n",
       "</table>\n",
       "<p>17197 rows × 8 columns</p>\n",
       "</div>"
      ],
      "text/plain": [
       "          id                                              tweet  \\\n",
       "0      31963  #studiolife #aislife #requires #passion #dedic...   \n",
       "1      31964   @user #white #supremacists want everyone to s...   \n",
       "2      31965  safe ways to heal your #acne!!    #altwaystohe...   \n",
       "3      31966  is the hp and the cursed child book up for res...   \n",
       "4      31967    3rd #bihday to my amazing, hilarious #nephew...   \n",
       "...      ...                                                ...   \n",
       "17192  49155  thought factory: left-right polarisation! #tru...   \n",
       "17193  49156  feeling like a mermaid ð #hairflip #neverre...   \n",
       "17194  49157  #hillary #campaigned today in #ohio((omg)) &am...   \n",
       "17195  49158  happy, at work conference: right mindset leads...   \n",
       "17196  49159  my   song \"so glad\" free download!  #shoegaze ...   \n",
       "\n",
       "                                                 cleaned  word_count  \\\n",
       "0                                               find  ¦           9   \n",
       "1                     want new â      â hereâs            16   \n",
       "2                               safe ways heal                     9   \n",
       "3      hp cursed child book reservations yes ðð...          22   \n",
       "4         3rd   amazing hilarious   eli ahmir uncle d...          15   \n",
       "...                                                  ...         ...   \n",
       "17192  thought factory leftright polarisation        ...          11   \n",
       "17193            feeling like mermaid ð          â ¦          13   \n",
       "17194     today omg amp words like assetsampliability...          17   \n",
       "17195  happy work conference right mindset leads cult...          12   \n",
       "17196                        song glad free download               9   \n",
       "\n",
       "       char_count_without_spaces  num_dig  noun_count  verb_count  \n",
       "0                              6        0           1           0  \n",
       "1                             23        0           3           0  \n",
       "2                             12        0           1           0  \n",
       "3                             44        0           4           1  \n",
       "4                             50        0           7           1  \n",
       "...                          ...      ...         ...         ...  \n",
       "17192                         38        0           4           1  \n",
       "17193                         25        0           2           3  \n",
       "17194                         46        0           6           0  \n",
       "17195                         69        0           5           1  \n",
       "17196                         20        0           3           0  \n",
       "\n",
       "[17197 rows x 8 columns]"
      ]
     },
     "execution_count": 158,
     "metadata": {},
     "output_type": "execute_result"
    }
   ],
   "source": [
    "final_testing.drop(['word_count_cleand','char_count',],axis=1)"
   ]
  },
  {
   "cell_type": "code",
   "execution_count": 162,
   "metadata": {},
   "outputs": [],
   "source": [
    "final = final_testing.drop(['cleaned','word_count','char_count_without_spaces','num_dig','noun_count','verb_count'],axis=1)"
   ]
  },
  {
   "cell_type": "code",
   "execution_count": 160,
   "metadata": {},
   "outputs": [
    {
     "data": {
      "text/html": [
       "<div>\n",
       "<style scoped>\n",
       "    .dataframe tbody tr th:only-of-type {\n",
       "        vertical-align: middle;\n",
       "    }\n",
       "\n",
       "    .dataframe tbody tr th {\n",
       "        vertical-align: top;\n",
       "    }\n",
       "\n",
       "    .dataframe thead th {\n",
       "        text-align: right;\n",
       "    }\n",
       "</style>\n",
       "<table border=\"1\" class=\"dataframe\">\n",
       "  <thead>\n",
       "    <tr style=\"text-align: right;\">\n",
       "      <th></th>\n",
       "      <th>id</th>\n",
       "      <th>tweet</th>\n",
       "      <th>cleaned</th>\n",
       "      <th>word_count</th>\n",
       "      <th>char_count_without_spaces</th>\n",
       "      <th>num_dig</th>\n",
       "      <th>noun_count</th>\n",
       "      <th>verb_count</th>\n",
       "    </tr>\n",
       "  </thead>\n",
       "  <tbody>\n",
       "    <tr>\n",
       "      <th>0</th>\n",
       "      <td>31963</td>\n",
       "      <td>#studiolife #aislife #requires #passion #dedic...</td>\n",
       "      <td>find  ¦</td>\n",
       "      <td>9</td>\n",
       "      <td>6</td>\n",
       "      <td>0</td>\n",
       "      <td>1</td>\n",
       "      <td>0</td>\n",
       "    </tr>\n",
       "    <tr>\n",
       "      <th>1</th>\n",
       "      <td>31964</td>\n",
       "      <td>@user #white #supremacists want everyone to s...</td>\n",
       "      <td>want new â      â hereâs</td>\n",
       "      <td>16</td>\n",
       "      <td>23</td>\n",
       "      <td>0</td>\n",
       "      <td>3</td>\n",
       "      <td>0</td>\n",
       "    </tr>\n",
       "    <tr>\n",
       "      <th>2</th>\n",
       "      <td>31965</td>\n",
       "      <td>safe ways to heal your #acne!!    #altwaystohe...</td>\n",
       "      <td>safe ways heal</td>\n",
       "      <td>9</td>\n",
       "      <td>12</td>\n",
       "      <td>0</td>\n",
       "      <td>1</td>\n",
       "      <td>0</td>\n",
       "    </tr>\n",
       "    <tr>\n",
       "      <th>3</th>\n",
       "      <td>31966</td>\n",
       "      <td>is the hp and the cursed child book up for res...</td>\n",
       "      <td>hp cursed child book reservations yes ðð...</td>\n",
       "      <td>22</td>\n",
       "      <td>44</td>\n",
       "      <td>0</td>\n",
       "      <td>4</td>\n",
       "      <td>1</td>\n",
       "    </tr>\n",
       "    <tr>\n",
       "      <th>4</th>\n",
       "      <td>31967</td>\n",
       "      <td>3rd #bihday to my amazing, hilarious #nephew...</td>\n",
       "      <td>3rd   amazing hilarious   eli ahmir uncle d...</td>\n",
       "      <td>15</td>\n",
       "      <td>50</td>\n",
       "      <td>0</td>\n",
       "      <td>7</td>\n",
       "      <td>1</td>\n",
       "    </tr>\n",
       "    <tr>\n",
       "      <th>...</th>\n",
       "      <td>...</td>\n",
       "      <td>...</td>\n",
       "      <td>...</td>\n",
       "      <td>...</td>\n",
       "      <td>...</td>\n",
       "      <td>...</td>\n",
       "      <td>...</td>\n",
       "      <td>...</td>\n",
       "    </tr>\n",
       "    <tr>\n",
       "      <th>17192</th>\n",
       "      <td>49155</td>\n",
       "      <td>thought factory: left-right polarisation! #tru...</td>\n",
       "      <td>thought factory leftright polarisation        ...</td>\n",
       "      <td>11</td>\n",
       "      <td>38</td>\n",
       "      <td>0</td>\n",
       "      <td>4</td>\n",
       "      <td>1</td>\n",
       "    </tr>\n",
       "    <tr>\n",
       "      <th>17193</th>\n",
       "      <td>49156</td>\n",
       "      <td>feeling like a mermaid ð #hairflip #neverre...</td>\n",
       "      <td>feeling like mermaid ð          â ¦</td>\n",
       "      <td>13</td>\n",
       "      <td>25</td>\n",
       "      <td>0</td>\n",
       "      <td>2</td>\n",
       "      <td>3</td>\n",
       "    </tr>\n",
       "    <tr>\n",
       "      <th>17194</th>\n",
       "      <td>49157</td>\n",
       "      <td>#hillary #campaigned today in #ohio((omg)) &amp;am...</td>\n",
       "      <td>today omg amp words like assetsampliability...</td>\n",
       "      <td>17</td>\n",
       "      <td>46</td>\n",
       "      <td>0</td>\n",
       "      <td>6</td>\n",
       "      <td>0</td>\n",
       "    </tr>\n",
       "    <tr>\n",
       "      <th>17195</th>\n",
       "      <td>49158</td>\n",
       "      <td>happy, at work conference: right mindset leads...</td>\n",
       "      <td>happy work conference right mindset leads cult...</td>\n",
       "      <td>12</td>\n",
       "      <td>69</td>\n",
       "      <td>0</td>\n",
       "      <td>5</td>\n",
       "      <td>1</td>\n",
       "    </tr>\n",
       "    <tr>\n",
       "      <th>17196</th>\n",
       "      <td>49159</td>\n",
       "      <td>my   song \"so glad\" free download!  #shoegaze ...</td>\n",
       "      <td>song glad free download</td>\n",
       "      <td>9</td>\n",
       "      <td>20</td>\n",
       "      <td>0</td>\n",
       "      <td>3</td>\n",
       "      <td>0</td>\n",
       "    </tr>\n",
       "  </tbody>\n",
       "</table>\n",
       "<p>17197 rows × 8 columns</p>\n",
       "</div>"
      ],
      "text/plain": [
       "          id                                              tweet  \\\n",
       "0      31963  #studiolife #aislife #requires #passion #dedic...   \n",
       "1      31964   @user #white #supremacists want everyone to s...   \n",
       "2      31965  safe ways to heal your #acne!!    #altwaystohe...   \n",
       "3      31966  is the hp and the cursed child book up for res...   \n",
       "4      31967    3rd #bihday to my amazing, hilarious #nephew...   \n",
       "...      ...                                                ...   \n",
       "17192  49155  thought factory: left-right polarisation! #tru...   \n",
       "17193  49156  feeling like a mermaid ð #hairflip #neverre...   \n",
       "17194  49157  #hillary #campaigned today in #ohio((omg)) &am...   \n",
       "17195  49158  happy, at work conference: right mindset leads...   \n",
       "17196  49159  my   song \"so glad\" free download!  #shoegaze ...   \n",
       "\n",
       "                                                 cleaned  word_count  \\\n",
       "0                                               find  ¦           9   \n",
       "1                     want new â      â hereâs            16   \n",
       "2                               safe ways heal                     9   \n",
       "3      hp cursed child book reservations yes ðð...          22   \n",
       "4         3rd   amazing hilarious   eli ahmir uncle d...          15   \n",
       "...                                                  ...         ...   \n",
       "17192  thought factory leftright polarisation        ...          11   \n",
       "17193            feeling like mermaid ð          â ¦          13   \n",
       "17194     today omg amp words like assetsampliability...          17   \n",
       "17195  happy work conference right mindset leads cult...          12   \n",
       "17196                        song glad free download               9   \n",
       "\n",
       "       char_count_without_spaces  num_dig  noun_count  verb_count  \n",
       "0                              6        0           1           0  \n",
       "1                             23        0           3           0  \n",
       "2                             12        0           1           0  \n",
       "3                             44        0           4           1  \n",
       "4                             50        0           7           1  \n",
       "...                          ...      ...         ...         ...  \n",
       "17192                         38        0           4           1  \n",
       "17193                         25        0           2           3  \n",
       "17194                         46        0           6           0  \n",
       "17195                         69        0           5           1  \n",
       "17196                         20        0           3           0  \n",
       "\n",
       "[17197 rows x 8 columns]"
      ]
     },
     "execution_count": 160,
     "metadata": {},
     "output_type": "execute_result"
    }
   ],
   "source": [
    "final_testing.drop(['word_count_cleand','char_count',],axis=1)"
   ]
  },
  {
   "cell_type": "code",
   "execution_count": 163,
   "metadata": {},
   "outputs": [],
   "source": [
    "final = final.drop(['word_count_cleand','char_count',],axis=1)"
   ]
  },
  {
   "cell_type": "code",
   "execution_count": 164,
   "metadata": {},
   "outputs": [
    {
     "data": {
      "text/html": [
       "<div>\n",
       "<style scoped>\n",
       "    .dataframe tbody tr th:only-of-type {\n",
       "        vertical-align: middle;\n",
       "    }\n",
       "\n",
       "    .dataframe tbody tr th {\n",
       "        vertical-align: top;\n",
       "    }\n",
       "\n",
       "    .dataframe thead th {\n",
       "        text-align: right;\n",
       "    }\n",
       "</style>\n",
       "<table border=\"1\" class=\"dataframe\">\n",
       "  <thead>\n",
       "    <tr style=\"text-align: right;\">\n",
       "      <th></th>\n",
       "      <th>id</th>\n",
       "      <th>tweet</th>\n",
       "    </tr>\n",
       "  </thead>\n",
       "  <tbody>\n",
       "    <tr>\n",
       "      <th>0</th>\n",
       "      <td>31963</td>\n",
       "      <td>#studiolife #aislife #requires #passion #dedic...</td>\n",
       "    </tr>\n",
       "    <tr>\n",
       "      <th>1</th>\n",
       "      <td>31964</td>\n",
       "      <td>@user #white #supremacists want everyone to s...</td>\n",
       "    </tr>\n",
       "    <tr>\n",
       "      <th>2</th>\n",
       "      <td>31965</td>\n",
       "      <td>safe ways to heal your #acne!!    #altwaystohe...</td>\n",
       "    </tr>\n",
       "    <tr>\n",
       "      <th>3</th>\n",
       "      <td>31966</td>\n",
       "      <td>is the hp and the cursed child book up for res...</td>\n",
       "    </tr>\n",
       "    <tr>\n",
       "      <th>4</th>\n",
       "      <td>31967</td>\n",
       "      <td>3rd #bihday to my amazing, hilarious #nephew...</td>\n",
       "    </tr>\n",
       "    <tr>\n",
       "      <th>...</th>\n",
       "      <td>...</td>\n",
       "      <td>...</td>\n",
       "    </tr>\n",
       "    <tr>\n",
       "      <th>17192</th>\n",
       "      <td>49155</td>\n",
       "      <td>thought factory: left-right polarisation! #tru...</td>\n",
       "    </tr>\n",
       "    <tr>\n",
       "      <th>17193</th>\n",
       "      <td>49156</td>\n",
       "      <td>feeling like a mermaid ð #hairflip #neverre...</td>\n",
       "    </tr>\n",
       "    <tr>\n",
       "      <th>17194</th>\n",
       "      <td>49157</td>\n",
       "      <td>#hillary #campaigned today in #ohio((omg)) &amp;am...</td>\n",
       "    </tr>\n",
       "    <tr>\n",
       "      <th>17195</th>\n",
       "      <td>49158</td>\n",
       "      <td>happy, at work conference: right mindset leads...</td>\n",
       "    </tr>\n",
       "    <tr>\n",
       "      <th>17196</th>\n",
       "      <td>49159</td>\n",
       "      <td>my   song \"so glad\" free download!  #shoegaze ...</td>\n",
       "    </tr>\n",
       "  </tbody>\n",
       "</table>\n",
       "<p>17197 rows × 2 columns</p>\n",
       "</div>"
      ],
      "text/plain": [
       "          id                                              tweet\n",
       "0      31963  #studiolife #aislife #requires #passion #dedic...\n",
       "1      31964   @user #white #supremacists want everyone to s...\n",
       "2      31965  safe ways to heal your #acne!!    #altwaystohe...\n",
       "3      31966  is the hp and the cursed child book up for res...\n",
       "4      31967    3rd #bihday to my amazing, hilarious #nephew...\n",
       "...      ...                                                ...\n",
       "17192  49155  thought factory: left-right polarisation! #tru...\n",
       "17193  49156  feeling like a mermaid ð #hairflip #neverre...\n",
       "17194  49157  #hillary #campaigned today in #ohio((omg)) &am...\n",
       "17195  49158  happy, at work conference: right mindset leads...\n",
       "17196  49159  my   song \"so glad\" free download!  #shoegaze ...\n",
       "\n",
       "[17197 rows x 2 columns]"
      ]
     },
     "execution_count": 164,
     "metadata": {},
     "output_type": "execute_result"
    }
   ],
   "source": [
    "final"
   ]
  },
  {
   "cell_type": "code",
   "execution_count": 165,
   "metadata": {},
   "outputs": [],
   "source": [
    "final = final.drop(['tweet'],axis=1)"
   ]
  },
  {
   "cell_type": "code",
   "execution_count": 166,
   "metadata": {},
   "outputs": [
    {
     "data": {
      "text/html": [
       "<div>\n",
       "<style scoped>\n",
       "    .dataframe tbody tr th:only-of-type {\n",
       "        vertical-align: middle;\n",
       "    }\n",
       "\n",
       "    .dataframe tbody tr th {\n",
       "        vertical-align: top;\n",
       "    }\n",
       "\n",
       "    .dataframe thead th {\n",
       "        text-align: right;\n",
       "    }\n",
       "</style>\n",
       "<table border=\"1\" class=\"dataframe\">\n",
       "  <thead>\n",
       "    <tr style=\"text-align: right;\">\n",
       "      <th></th>\n",
       "      <th>id</th>\n",
       "    </tr>\n",
       "  </thead>\n",
       "  <tbody>\n",
       "    <tr>\n",
       "      <th>0</th>\n",
       "      <td>31963</td>\n",
       "    </tr>\n",
       "    <tr>\n",
       "      <th>1</th>\n",
       "      <td>31964</td>\n",
       "    </tr>\n",
       "    <tr>\n",
       "      <th>2</th>\n",
       "      <td>31965</td>\n",
       "    </tr>\n",
       "    <tr>\n",
       "      <th>3</th>\n",
       "      <td>31966</td>\n",
       "    </tr>\n",
       "    <tr>\n",
       "      <th>4</th>\n",
       "      <td>31967</td>\n",
       "    </tr>\n",
       "    <tr>\n",
       "      <th>...</th>\n",
       "      <td>...</td>\n",
       "    </tr>\n",
       "    <tr>\n",
       "      <th>17192</th>\n",
       "      <td>49155</td>\n",
       "    </tr>\n",
       "    <tr>\n",
       "      <th>17193</th>\n",
       "      <td>49156</td>\n",
       "    </tr>\n",
       "    <tr>\n",
       "      <th>17194</th>\n",
       "      <td>49157</td>\n",
       "    </tr>\n",
       "    <tr>\n",
       "      <th>17195</th>\n",
       "      <td>49158</td>\n",
       "    </tr>\n",
       "    <tr>\n",
       "      <th>17196</th>\n",
       "      <td>49159</td>\n",
       "    </tr>\n",
       "  </tbody>\n",
       "</table>\n",
       "<p>17197 rows × 1 columns</p>\n",
       "</div>"
      ],
      "text/plain": [
       "          id\n",
       "0      31963\n",
       "1      31964\n",
       "2      31965\n",
       "3      31966\n",
       "4      31967\n",
       "...      ...\n",
       "17192  49155\n",
       "17193  49156\n",
       "17194  49157\n",
       "17195  49158\n",
       "17196  49159\n",
       "\n",
       "[17197 rows x 1 columns]"
      ]
     },
     "execution_count": 166,
     "metadata": {},
     "output_type": "execute_result"
    }
   ],
   "source": [
    "final"
   ]
  },
  {
   "cell_type": "code",
   "execution_count": 167,
   "metadata": {},
   "outputs": [],
   "source": [
    "final['pred'] = test_data_list"
   ]
  },
  {
   "cell_type": "code",
   "execution_count": 169,
   "metadata": {},
   "outputs": [
    {
     "data": {
      "text/plain": [
       "count    17197.0\n",
       "mean         0.0\n",
       "std          0.0\n",
       "min          0.0\n",
       "25%          0.0\n",
       "50%          0.0\n",
       "75%          0.0\n",
       "max          0.0\n",
       "Name: pred, dtype: float64"
      ]
     },
     "execution_count": 169,
     "metadata": {},
     "output_type": "execute_result"
    }
   ],
   "source": [
    "final['pred'].describe()"
   ]
  },
  {
   "cell_type": "code",
   "execution_count": null,
   "metadata": {},
   "outputs": [],
   "source": []
  }
 ],
 "metadata": {
  "colab": {
   "collapsed_sections": [],
   "name": "13.5 Implementing SMS spam classifier.ipynb",
   "provenance": []
  },
  "kernelspec": {
   "display_name": "Python 3 (ipykernel)",
   "language": "python",
   "name": "python3"
  },
  "language_info": {
   "codemirror_mode": {
    "name": "ipython",
    "version": 3
   },
   "file_extension": ".py",
   "mimetype": "text/x-python",
   "name": "python",
   "nbconvert_exporter": "python",
   "pygments_lexer": "ipython3",
   "version": "3.9.12"
  }
 },
 "nbformat": 4,
 "nbformat_minor": 1
}
