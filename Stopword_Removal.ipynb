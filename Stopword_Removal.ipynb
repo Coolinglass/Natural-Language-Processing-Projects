{
  "cells": [
    {
      "cell_type": "markdown",
      "metadata": {
        "id": "view-in-github",
        "colab_type": "text"
      },
      "source": [
        "<a href=\"https://colab.research.google.com/github/Coolinglass/Applied-Machine-Learning-Projects/blob/master/5_3_Stopword_Removal.ipynb\" target=\"_parent\"><img src=\"https://colab.research.google.com/assets/colab-badge.svg\" alt=\"Open In Colab\"/></a>"
      ]
    },
    {
      "cell_type": "markdown",
      "metadata": {
        "id": "EzI8jcDjjMRp"
      },
      "source": [
        "### Problem:\n",
        "Suppose you have a text document which contains some information about a topic. But you don’t know what that topic is. Your challenge is to find out the topic without reading the text."
      ]
    },
    {
      "cell_type": "markdown",
      "metadata": {
        "id": "zUKgDMAljMRs"
      },
      "source": [
        "### Importing Data"
      ]
    },
    {
      "cell_type": "code",
      "execution_count": null,
      "metadata": {
        "id": "KKB4IEesjMRt"
      },
      "outputs": [],
      "source": [
        "# Reading the file using open()\n",
        "file=open('moon.txt',mode='r',encoding='utf-8')\n",
        "\n",
        "# Getting text data as string\n",
        "text=file.read()\n",
        "\n",
        "# Closing the file\n",
        "file.close()"
      ]
    },
    {
      "cell_type": "code",
      "execution_count": null,
      "metadata": {
        "colab": {
          "base_uri": "https://localhost:8080/",
          "height": 72
        },
        "id": "xKBl_W5BjMR3",
        "outputId": "35fb911c-d887-4f4b-bcbf-0525ecc255ec"
      },
      "outputs": [
        {
          "name": "stdout",
          "output_type": "stream",
          "text": [
            "The moon is the satellite of the earth. It moves round the earth. It shines at night by light reflected from the Sun. It looks beautiful. The bright Moonlight is very soothing. The earthly objects shine like silver in the moonlight. We are fascinated by the enchanting beauty of the Moon. The moon is not as beautiful as it looks. It seems to be lovely when it shines in the sky at night. As a matter of fact it is devoid of plants and animals. The moon is not a suitable place for plants and animals. Therefore, no form of life can be found on the moon. Unlike the earth, the moon has got no atmosphere. Therefore, the lunar days are very hot and the lunar nights are intensely cold. The moon looks beautiful from the earth but in fact it has up forbidding appearance. It is full of rocks and craters. When we look at the moon at night we see some dark spots on it. These dark spots are dangerous rocks and craters. The gravitational pull of the moon is less than that of the earth, so it is difficult to walk on the surface of the Moon. The moon has fascinated man since the beginning of his life on the earth. He has looked at it with wonder. Many poets have composed beautiful poems on the moon. Scientists tried to reveal the mystery of the moon. They wanted to send human to the moon. Several attempts were made to place man on the moon. At last two Americans-Neil Armstrong and Edwin Aldrin-reached the moon on July 21, 1969. They walked on the surface of the moon and collected the lunar rocks. They returned to the earth safely. The American scientists have sent men to the moon several times. Now the moon has been conquered by man. It is no longer a mysterious object. The journey of the moon may be thrilling but it cannot make our life on the earth happy. It is better to have a happy life on the earth then to go to the moon.\n",
            "\n"
          ]
        }
      ],
      "source": [
        "print(text)"
      ]
    },
    {
      "cell_type": "markdown",
      "metadata": {
        "id": "V-0V200UjMSA"
      },
      "source": [
        "### Cleaning Text"
      ]
    },
    {
      "cell_type": "code",
      "execution_count": null,
      "metadata": {
        "id": "soM8GnGYjMSC"
      },
      "outputs": [],
      "source": [
        "import re\n",
        "\n",
        "# Function for cleaning text\n",
        "def clean_text(text):\n",
        "\n",
        "    # Lowercasing the text\n",
        "    text=text.lower()\n",
        "\n",
        "    # Removing comma(,), period(.) and newline character(\\n)\n",
        "    text=re.sub('[,.\\n]','',text)\n",
        "\n",
        "    # Replacing hypen with blank space\n",
        "    text=re.sub('-',' ',text)\n",
        "\n",
        "    return text"
      ]
    },
    {
      "cell_type": "code",
      "execution_count": null,
      "metadata": {
        "id": "GmNmEobGjMSK"
      },
      "outputs": [],
      "source": [
        "# Cleaning Text\n",
        "cleaned_text=clean_text(text)"
      ]
    },
    {
      "cell_type": "code",
      "execution_count": null,
      "metadata": {
        "colab": {
          "base_uri": "https://localhost:8080/",
          "height": 54
        },
        "id": "e414kJRcjMSR",
        "outputId": "3dc5dced-70dc-454c-cef7-57f1a420f4db",
        "scrolled": true
      },
      "outputs": [
        {
          "name": "stdout",
          "output_type": "stream",
          "text": [
            "the moon is the satellite of the earth it moves round the earth it shines at night by light reflected from the sun it looks beautiful the bright moonlight is very soothing the earthly objects shine like silver in the moonlight we are fascinated by the enchanting beauty of the moon the moon is not as beautiful as it looks it seems to be lovely when it shines in the sky at night as a matter of fact it is devoid of plants and animals the moon is not a suitable place for plants and animals therefore no form of life can be found on the moon unlike the earth the moon has got no atmosphere therefore the lunar days are very hot and the lunar nights are intensely cold the moon looks beautiful from the earth but in fact it has up forbidding appearance it is full of rocks and craters when we look at the moon at night we see some dark spots on it these dark spots are dangerous rocks and craters the gravitational pull of the moon is less than that of the earth so it is difficult to walk on the surface of the moon the moon has fascinated man since the beginning of his life on the earth he has looked at it with wonder many poets have composed beautiful poems on the moon scientists tried to reveal the mystery of the moon they wanted to send human to the moon several attempts were made to place man on the moon at last two americans neil armstrong and edwin aldrin reached the moon on july 21 1969 they walked on the surface of the moon and collected the lunar rocks they returned to the earth safely the american scientists have sent men to the moon several times now the moon has been conquered by man it is no longer a mysterious object the journey of the moon may be thrilling but it cannot make our life on the earth happy it is better to have a happy life on the earth then to go to the moon\n"
          ]
        }
      ],
      "source": [
        "print(cleaned_text)"
      ]
    },
    {
      "cell_type": "markdown",
      "metadata": {
        "id": "WriafAxkjMSZ"
      },
      "source": [
        "### Finding most frequent words"
      ]
    },
    {
      "cell_type": "code",
      "execution_count": null,
      "metadata": {
        "id": "y8GzArozjMSa"
      },
      "outputs": [],
      "source": [
        "import spacy"
      ]
    },
    {
      "cell_type": "code",
      "execution_count": null,
      "metadata": {
        "id": "L8cB_TuZjMSj"
      },
      "outputs": [],
      "source": [
        "# Loading spacy model\n",
        "nlp=spacy.load('en_core_web_sm')"
      ]
    },
    {
      "cell_type": "code",
      "execution_count": null,
      "metadata": {
        "id": "qbfayY10jMSq"
      },
      "outputs": [],
      "source": [
        "# creating doc object\n",
        "doc=nlp(cleaned_text)"
      ]
    },
    {
      "cell_type": "code",
      "execution_count": null,
      "metadata": {
        "id": "Fn07QonpjMSx"
      },
      "outputs": [],
      "source": [
        "words_dict={}\n",
        "\n",
        "# Add word-count pair to the dictionary\n",
        "for token in doc:\n",
        "    # Check if the word is already in dictionary\n",
        "    if token.text in words_dict:\n",
        "        # Increment count of word by 1\n",
        "        words_dict[token.text]=words_dict[token.text]+1\n",
        "    else:\n",
        "        # Add the word to dictionary with count 1\n",
        "        words_dict[token.text]=1"
      ]
    },
    {
      "cell_type": "code",
      "execution_count": null,
      "metadata": {
        "id": "LlUPAv04jMS4"
      },
      "outputs": [],
      "source": [
        "import pandas as pd"
      ]
    },
    {
      "cell_type": "code",
      "execution_count": null,
      "metadata": {
        "id": "R0xNmXfIjMTC"
      },
      "outputs": [],
      "source": [
        "# Creating a dataframe from dictionary\n",
        "df = pd.DataFrame({'word':list(words_dict.keys()), 'count':list(words_dict.values())})"
      ]
    },
    {
      "cell_type": "code",
      "execution_count": null,
      "metadata": {
        "id": "_pUPu1Z2jMTK"
      },
      "outputs": [],
      "source": [
        "# Sorting dataframe in descending order\n",
        "df.sort_values(by='count',ascending=False,inplace=True,ignore_index=True)"
      ]
    },
    {
      "cell_type": "code",
      "execution_count": null,
      "metadata": {
        "colab": {
          "base_uri": "https://localhost:8080/",
          "height": 224
        },
        "id": "-S36E8RSjMTQ",
        "outputId": "414ed3b0-7050-4990-a7ac-93770a9140c0"
      },
      "outputs": [
        {
          "name": "stdout",
          "output_type": "stream",
          "text": [
            "Shape=> (151, 2)\n"
          ]
        },
        {
          "data": {
            "text/html": [
              "<div>\n",
              "<style scoped>\n",
              "    .dataframe tbody tr th:only-of-type {\n",
              "        vertical-align: middle;\n",
              "    }\n",
              "\n",
              "    .dataframe tbody tr th {\n",
              "        vertical-align: top;\n",
              "    }\n",
              "\n",
              "    .dataframe thead th {\n",
              "        text-align: right;\n",
              "    }\n",
              "</style>\n",
              "<table border=\"1\" class=\"dataframe\">\n",
              "  <thead>\n",
              "    <tr style=\"text-align: right;\">\n",
              "      <th></th>\n",
              "      <th>word</th>\n",
              "      <th>count</th>\n",
              "    </tr>\n",
              "  </thead>\n",
              "  <tbody>\n",
              "    <tr>\n",
              "      <th>0</th>\n",
              "      <td>the</td>\n",
              "      <td>47</td>\n",
              "    </tr>\n",
              "    <tr>\n",
              "      <th>1</th>\n",
              "      <td>moon</td>\n",
              "      <td>21</td>\n",
              "    </tr>\n",
              "    <tr>\n",
              "      <th>2</th>\n",
              "      <td>it</td>\n",
              "      <td>15</td>\n",
              "    </tr>\n",
              "    <tr>\n",
              "      <th>3</th>\n",
              "      <td>of</td>\n",
              "      <td>13</td>\n",
              "    </tr>\n",
              "    <tr>\n",
              "      <th>4</th>\n",
              "      <td>to</td>\n",
              "      <td>11</td>\n",
              "    </tr>\n",
              "  </tbody>\n",
              "</table>\n",
              "</div>"
            ],
            "text/plain": [
              "   word  count\n",
              "0   the     47\n",
              "1  moon     21\n",
              "2    it     15\n",
              "3    of     13\n",
              "4    to     11"
            ]
          },
          "execution_count": 13,
          "metadata": {
            "tags": []
          },
          "output_type": "execute_result"
        }
      ],
      "source": [
        "print('Shape=>',df.shape)\n",
        "df.head(5)"
      ]
    },
    {
      "cell_type": "markdown",
      "metadata": {
        "id": "g4vxGVA6jMTX"
      },
      "source": [
        "# What are Stop words?\n",
        "Stopwords are the most common words in a language which are added to make things more understandable to humans. Like in English we have `a, an, the, for, where, when, at,` etc. These words are removed during text pre-processing phase because these words do not add much value to the meaning of the document."
      ]
    },
    {
      "cell_type": "markdown",
      "metadata": {
        "id": "CWf28EKbjMTY"
      },
      "source": [
        "Consider a sample sentence:\n",
        "##### String: \"There is a pen on the table.\"\n",
        "##### Stopwords: \\[\"There\", \"is\", \"a\", \"on\", \"the\" \\]\n",
        "##### Meaningful words: \\[\"pen\", \"table\"\\]"
      ]
    },
    {
      "cell_type": "code",
      "execution_count": null,
      "metadata": {
        "colab": {
          "base_uri": "https://localhost:8080/",
          "height": 54
        },
        "id": "xtGE36DsjMTZ",
        "outputId": "6fe28d25-c314-44f3-c2be-f9c3ec4868cd"
      },
      "outputs": [
        {
          "name": "stdout",
          "output_type": "stream",
          "text": [
            "{'call', 'herself', 'whence', 'less', 'always', 'thus', 'least', 'forty', 'every', 'most', 'a', \"n't\", 'there', 'get', 'top', 'beforehand', 'namely', 'again', 'first', 'throughout', 'your', 'nothing', 'upon', 'quite', 'off', 'rather', 'be', 'hereby', 'too', \"'d\", 'been', 'twenty', 'seem', 'all', 'even', 'during', '’ll', 'thereafter', 'hereafter', 'full', 'keep', 'six', 'those', 'does', 'doing', 'somewhere', 'you', 'hence', 'mine', 'once', 'ever', 'on', 'which', 'if', 'otherwise', 'whereupon', '’s', 'many', 'myself', 'is', 'meanwhile', 'do', 'noone', 'sixty', 'among', 'to', 'alone', 'go', 'show', 'anyhow', 'one', 'now', 'really', 'never', 'each', 'must', 'anyway', 'have', 'neither', 'ca', '’d', 'sometimes', 'unless', 'out', 'name', 'between', 'below', 'besides', 'indeed', 'this', 'give', 'last', 'whatever', 'whereas', 'after', 'by', 'onto', 'the', '’ve', 'afterwards', 'he', 'itself', 'everything', 'down', 'whoever', 'am', 'used', 'when', 'because', 'else', 'than', 'yourself', '‘ve', 'mostly', 'third', 'side', 'up', 'with', 'becomes', 'becoming', 'very', 'anywhere', 'whither', 'around', 'already', 'that', 'sometime', 'whole', 'thence', '‘d', 'therefore', 'five', 'became', 'their', 'eight', 'other', 'elsewhere', 'next', 'nor', 'some', 'behind', 'my', 'eleven', 'nowhere', 'ten', 'until', 'well', 'not', 'n’t', 'much', '’m', 'latterly', 'are', 'or', \"'ll\", 'her', 'nine', 'would', '‘re', 'thru', 'will', 'against', 'himself', 'it', '‘s', 'but', 'amount', 'fifty', 'former', 'nevertheless', 'another', 'without', '’re', 'twelve', \"'m\", 'beyond', 'its', 'please', 'whether', 'where', 'latter', 'towards', 'under', 'from', 'beside', 'was', 'and', 'made', 'had', 'still', 'yet', 'as', 'thereupon', 'along', 'seems', 'who', 'across', 're', 'bottom', 'make', 'through', \"'ve\", 'herein', 'thereby', 'hers', 'ourselves', 'they', 'formerly', 'before', 'whose', 'four', 'become', 'seeming', 'amongst', 'also', 'often', 'take', 'something', 'how', 'whenever', 'none', 'about', 'enough', 'although', 'fifteen', 'everywhere', 'just', 'more', 'only', 'both', 'such', 'almost', 'toward', 'anyone', 'done', 'via', 'others', 'me', \"'s\", 'at', 'can', 'any', 'two', 'wherever', 'cannot', 'i', 'did', 'since', 'n‘t', 'into', 'being', 'serious', 'therein', 'these', 'she', 'nobody', '‘m', 'anything', 'back', 'together', 'though', \"'re\", 'yourselves', 'in', 'themselves', 'we', 'his', 'hundred', 'for', 'may', 'moreover', 'few', 'no', 'above', 'perhaps', 'same', 'of', 'own', 'seemed', 'somehow', 'them', 'hereupon', 'empty', 'front', 'should', 'us', 'using', 'whom', 'over', 'put', 'see', 'whereafter', 'within', 'everyone', 'however', 'an', 'several', 'except', 'various', 'so', 'per', 'move', 'him', 'part', '‘ll', 'why', 'what', 'three', 'here', 'could', 'regarding', 'ours', 'were', 'whereby', 'then', 'has', 'yours', 'further', 'due', 'wherein', 'say', 'someone', 'our', 'either', 'might', 'while'}\n"
          ]
        }
      ],
      "source": [
        "print(nlp.Defaults.stop_words)"
      ]
    },
    {
      "cell_type": "code",
      "execution_count": null,
      "metadata": {
        "colab": {
          "base_uri": "https://localhost:8080/",
          "height": 34
        },
        "id": "AZiEJcOdjMTh",
        "outputId": "8beaaef7-3336-4957-8eaa-f921a98e9006"
      },
      "outputs": [
        {
          "data": {
            "text/plain": [
              "326"
            ]
          },
          "execution_count": 15,
          "metadata": {
            "tags": []
          },
          "output_type": "execute_result"
        }
      ],
      "source": [
        "len(nlp.Defaults.stop_words)"
      ]
    },
    {
      "cell_type": "code",
      "execution_count": null,
      "metadata": {
        "id": "xNM96GQajMTn"
      },
      "outputs": [],
      "source": [
        "# Getting words that are not stopwords\n",
        "new_tokens=[token.text for token in doc if (token.is_stop == False)]"
      ]
    },
    {
      "cell_type": "code",
      "execution_count": null,
      "metadata": {
        "colab": {
          "base_uri": "https://localhost:8080/",
          "height": 54
        },
        "id": "BgfTMFNBjMTu",
        "outputId": "c3224432-a0d1-4a76-c285-cb7beb8ffe6f"
      },
      "outputs": [
        {
          "name": "stdout",
          "output_type": "stream",
          "text": [
            "['moon', 'satellite', 'earth', 'moves', 'round', 'earth', 'shines', 'night', 'light', 'reflected', 'sun', 'looks', 'beautiful', 'bright', 'moonlight', 'soothing', 'earthly', 'objects', 'shine', 'like', 'silver', 'moonlight', 'fascinated', 'enchanting', 'beauty', 'moon', 'moon', 'beautiful', 'looks', 'lovely', 'shines', 'sky', 'night', 'matter', 'fact', 'devoid', 'plants', 'animals', 'moon', 'suitable', 'place', 'plants', 'animals', 'form', 'life', 'found', 'moon', 'unlike', 'earth', 'moon', 'got', 'atmosphere', 'lunar', 'days', 'hot', 'lunar', 'nights', 'intensely', 'cold', 'moon', 'looks', 'beautiful', 'earth', 'fact', 'forbidding', 'appearance', 'rocks', 'craters', 'look', 'moon', 'night', 'dark', 'spots', 'dark', 'spots', 'dangerous', 'rocks', 'craters', 'gravitational', 'pull', 'moon', 'earth', 'difficult', 'walk', 'surface', 'moon', 'moon', 'fascinated', 'man', 'beginning', 'life', 'earth', 'looked', 'wonder', 'poets', 'composed', 'beautiful', 'poems', 'moon', 'scientists', 'tried', 'reveal', 'mystery', 'moon', 'wanted', 'send', 'human', 'moon', 'attempts', 'place', 'man', 'moon', 'americans', 'neil', 'armstrong', 'edwin', 'aldrin', 'reached', 'moon', 'july', '21', '1969', 'walked', 'surface', 'moon', 'collected', 'lunar', 'rocks', 'returned', 'earth', 'safely', 'american', 'scientists', 'sent', 'men', 'moon', 'times', 'moon', 'conquered', 'man', 'longer', 'mysterious', 'object', 'journey', 'moon', 'thrilling', 'life', 'earth', 'happy', 'better', 'happy', 'life', 'earth', 'moon']\n"
          ]
        }
      ],
      "source": [
        "print(new_tokens)"
      ]
    },
    {
      "cell_type": "code",
      "execution_count": null,
      "metadata": {
        "id": "pzxU8YlCjMT2"
      },
      "outputs": [],
      "source": [
        "new_words_dict={}\n",
        "\n",
        "# Add word-count pair to the dictionary\n",
        "for token in new_tokens:\n",
        "    # Check if the word is already in dictionary\n",
        "    if token in new_words_dict:\n",
        "        # Increment count of word by 1\n",
        "        new_words_dict[token] = new_words_dict[token]+1\n",
        "    else:\n",
        "        # Add the word to dictionary with count 1\n",
        "        new_words_dict[token]=1"
      ]
    },
    {
      "cell_type": "code",
      "execution_count": null,
      "metadata": {
        "id": "-SeZA9LxjMT9"
      },
      "outputs": [],
      "source": [
        "# Creating a dataframe from dictionary\n",
        "new_df = pd.DataFrame({'word':list(new_words_dict.keys()), 'count':list(new_words_dict.values())})"
      ]
    },
    {
      "cell_type": "code",
      "execution_count": null,
      "metadata": {
        "id": "02CmVFwPjMUD"
      },
      "outputs": [],
      "source": [
        "# Sorting dataframe in descending order\n",
        "new_df.sort_values(by='count',ascending=False,inplace=True,ignore_index=True)"
      ]
    },
    {
      "cell_type": "code",
      "execution_count": null,
      "metadata": {
        "colab": {
          "base_uri": "https://localhost:8080/",
          "height": 224
        },
        "id": "NR9Z9i_SjMUK",
        "outputId": "eca527b9-81e7-48a8-cfcc-3f706a64fd8a"
      },
      "outputs": [
        {
          "name": "stdout",
          "output_type": "stream",
          "text": [
            "Shape=> (97, 2)\n"
          ]
        },
        {
          "data": {
            "text/html": [
              "<div>\n",
              "<style scoped>\n",
              "    .dataframe tbody tr th:only-of-type {\n",
              "        vertical-align: middle;\n",
              "    }\n",
              "\n",
              "    .dataframe tbody tr th {\n",
              "        vertical-align: top;\n",
              "    }\n",
              "\n",
              "    .dataframe thead th {\n",
              "        text-align: right;\n",
              "    }\n",
              "</style>\n",
              "<table border=\"1\" class=\"dataframe\">\n",
              "  <thead>\n",
              "    <tr style=\"text-align: right;\">\n",
              "      <th></th>\n",
              "      <th>word</th>\n",
              "      <th>count</th>\n",
              "    </tr>\n",
              "  </thead>\n",
              "  <tbody>\n",
              "    <tr>\n",
              "      <th>0</th>\n",
              "      <td>moon</td>\n",
              "      <td>21</td>\n",
              "    </tr>\n",
              "    <tr>\n",
              "      <th>1</th>\n",
              "      <td>earth</td>\n",
              "      <td>9</td>\n",
              "    </tr>\n",
              "    <tr>\n",
              "      <th>2</th>\n",
              "      <td>life</td>\n",
              "      <td>4</td>\n",
              "    </tr>\n",
              "    <tr>\n",
              "      <th>3</th>\n",
              "      <td>beautiful</td>\n",
              "      <td>4</td>\n",
              "    </tr>\n",
              "    <tr>\n",
              "      <th>4</th>\n",
              "      <td>looks</td>\n",
              "      <td>3</td>\n",
              "    </tr>\n",
              "  </tbody>\n",
              "</table>\n",
              "</div>"
            ],
            "text/plain": [
              "        word  count\n",
              "0       moon     21\n",
              "1      earth      9\n",
              "2       life      4\n",
              "3  beautiful      4\n",
              "4      looks      3"
            ]
          },
          "execution_count": 21,
          "metadata": {
            "tags": []
          },
          "output_type": "execute_result"
        }
      ],
      "source": [
        "print('Shape=>',new_df.shape)\n",
        "new_df.head(5)"
      ]
    },
    {
      "cell_type": "code",
      "execution_count": null,
      "metadata": {
        "id": "27-S-pa3s4o3"
      },
      "outputs": [],
      "source": [
        "# Reading the file using open()\n",
        "file=open('switzerland.txt',mode='r',encoding='utf-8')\n",
        "\n",
        "# Getting text data as string\n",
        "text=file.read()\n",
        "\n",
        "# Closing the file\n",
        "file.close()"
      ]
    },
    {
      "cell_type": "code",
      "execution_count": null,
      "metadata": {
        "id": "H-ffQolIs4o4"
      },
      "outputs": [],
      "source": [
        "import re\n",
        "\n",
        "# Function for cleaning text\n",
        "def clean_text(text):\n",
        "\n",
        "    # Lowercasing the text\n",
        "    text=text.lower()\n",
        "\n",
        "    # Removing comma(,), period(.) and newline character(\\n)\n",
        "    text=re.sub('[,.\\n]','',text)\n",
        "\n",
        "    # Replacing hypen with blank space\n",
        "    text=re.sub('-',' ',text)\n",
        "\n",
        "    return text"
      ]
    },
    {
      "cell_type": "code",
      "execution_count": null,
      "metadata": {
        "id": "9tS-ZZD7s4o4"
      },
      "outputs": [],
      "source": [
        "cleaned_text=clean_text(text)"
      ]
    },
    {
      "cell_type": "code",
      "execution_count": null,
      "metadata": {
        "id": "B3glZVuEs4o4",
        "outputId": "c03f3c35-af0d-4c9b-8ddb-4d394e1f7d33"
      },
      "outputs": [
        {
          "data": {
            "text/plain": [
              "969"
            ]
          },
          "execution_count": 14,
          "metadata": {},
          "output_type": "execute_result"
        }
      ],
      "source": [
        "len(cleaned_text)"
      ]
    },
    {
      "cell_type": "code",
      "execution_count": null,
      "metadata": {
        "id": "02sfstIgs4o4",
        "outputId": "b6873d54-bded-437f-9783-c6703fd0f19a"
      },
      "outputs": [
        {
          "name": "stdout",
          "output_type": "stream",
          "text": [
            "Switzerland, officially the Swiss Confederation, is a country situated in the confluence of Western, Central, and Southern Europe. It is a federal republic composed of 26 cantons, with federal authorities based in Bern. Switzerland is a landlocked country bordered by Italy to the south, France to the west, Germany to the north, and Austria and Liechtenstein to the east. It is geographically divided among the Swiss Plateau, the Alps, and the Jura, spanning a total area of 41,285 km2 (15,940 sq mi), and land area of 39,997 km2 (15,443 sq mi). While the Alps occupy the greater part of the territory, the Swiss population of approximately 8.5 million is concentrated mostly on the plateau, where the largest cities and economic centres are located, among them Zürich, Geneva and Basel, where multiple international organisations are domiciled (such as FIFA, the UN's second-largest Office, and the Bank for International Settlements) and where the main international airports of Switzerland are.\n",
            "\n"
          ]
        }
      ],
      "source": [
        "print(text)"
      ]
    },
    {
      "cell_type": "code",
      "execution_count": null,
      "metadata": {
        "id": "UFbdsXBks4o4"
      },
      "outputs": [],
      "source": [
        "doc=nlp(cleaned_text)"
      ]
    },
    {
      "cell_type": "code",
      "execution_count": null,
      "metadata": {
        "id": "_leUGwpTs4o5"
      },
      "outputs": [],
      "source": [
        "new_tokens=[token.text for token in doc if (token.is_stop == False)]"
      ]
    },
    {
      "cell_type": "code",
      "execution_count": null,
      "metadata": {
        "id": "tC1KRF8Ns4o5",
        "outputId": "dd1a49fc-3c90-426c-dec8-df0b77052b9e"
      },
      "outputs": [
        {
          "name": "stdout",
          "output_type": "stream",
          "text": [
            "['switzerland', 'officially', 'swiss', 'confederation', 'country', 'situated', 'confluence', 'western', 'central', 'southern', 'europe', 'federal', 'republic', 'composed', '26', 'cantons', 'federal', 'authorities', 'based', 'bern', 'switzerland', 'landlocked', 'country', 'bordered', 'italy', 'south', 'france', 'west', 'germany', 'north', 'austria', 'liechtenstein', 'east', 'geographically', 'divided', 'swiss', 'plateau', 'alps', 'jura', 'spanning', 'total', 'area', '41285', 'km2', '(', '15940', 'sq', 'mi', ')', 'land', 'area', '39997', 'km2', '(', '15443', 'sq', 'mi', ')', 'alps', 'occupy', 'greater', 'territory', 'swiss', 'population', 'approximately', '85', 'million', 'concentrated', 'plateau', 'largest', 'cities', 'economic', 'centres', 'located', 'zürich', 'geneva', 'basel', 'multiple', 'international', 'organisations', 'domiciled', '(', 'fifa', 'un', 'second', 'largest', 'office', 'bank', 'international', 'settlements', ')', 'main', 'international', 'airports', 'switzerland']\n"
          ]
        }
      ],
      "source": [
        "print(new_tokens)"
      ]
    },
    {
      "cell_type": "code",
      "execution_count": null,
      "metadata": {
        "id": "X5poYu-Os4o5"
      },
      "outputs": [],
      "source": [
        "stop_words_count = [token.text for token in doc if (token.is_stop == True)]"
      ]
    },
    {
      "cell_type": "code",
      "execution_count": null,
      "metadata": {
        "id": "9HFl1cVEs4o5",
        "outputId": "f216a5b5-7b09-4584-c624-183075fa884b"
      },
      "outputs": [
        {
          "data": {
            "text/plain": [
              "70"
            ]
          },
          "execution_count": 19,
          "metadata": {},
          "output_type": "execute_result"
        }
      ],
      "source": [
        "len(stop_words_count)"
      ]
    },
    {
      "cell_type": "code",
      "execution_count": null,
      "metadata": {
        "id": "tFfGwl2Ds4o5"
      },
      "outputs": [],
      "source": [
        "Percentage = (len(stop_words_count)/len(cleaned_text)) * 100"
      ]
    },
    {
      "cell_type": "code",
      "execution_count": null,
      "metadata": {
        "id": "pC1T6P28s4o5",
        "outputId": "8e5f2ec1-293f-416e-d5d0-8697d0d8a72a"
      },
      "outputs": [
        {
          "data": {
            "text/plain": [
              "7.223942208462332"
            ]
          },
          "execution_count": 24,
          "metadata": {},
          "output_type": "execute_result"
        }
      ],
      "source": [
        "Percentage"
      ]
    },
    {
      "cell_type": "code",
      "execution_count": null,
      "metadata": {
        "id": "ZnEEPcjks4o6"
      },
      "outputs": [],
      "source": [
        "cleaned_text ="
      ]
    },
    {
      "cell_type": "code",
      "execution_count": null,
      "metadata": {
        "id": "rIIDCS0Js4o6",
        "outputId": "5c1b774a-31ee-4451-c106-65936ddee2d4"
      },
      "outputs": [
        {
          "data": {
            "text/plain": [
              "[('Switzerland', 'Switzerland'),\n",
              " (',', ','),\n",
              " ('officially', 'officially'),\n",
              " ('the', 'the'),\n",
              " ('Swiss', 'Swiss'),\n",
              " ('Confederation', 'Confederation'),\n",
              " (',', ','),\n",
              " ('is', 'be'),\n",
              " ('a', 'a'),\n",
              " ('country', 'country'),\n",
              " ('situated', 'situate'),\n",
              " ('in', 'in'),\n",
              " ('the', 'the'),\n",
              " ('confluence', 'confluence'),\n",
              " ('of', 'of'),\n",
              " ('Western', 'western'),\n",
              " (',', ','),\n",
              " ('Central', 'Central'),\n",
              " (',', ','),\n",
              " ('and', 'and'),\n",
              " ('Southern', 'Southern'),\n",
              " ('Europe', 'Europe'),\n",
              " ('.', '.'),\n",
              " ('It', 'it'),\n",
              " ('is', 'be'),\n",
              " ('a', 'a'),\n",
              " ('federal', 'federal'),\n",
              " ('republic', 'republic'),\n",
              " ('composed', 'compose'),\n",
              " ('of', 'of'),\n",
              " ('26', '26'),\n",
              " ('cantons', 'canton'),\n",
              " (',', ','),\n",
              " ('with', 'with'),\n",
              " ('federal', 'federal'),\n",
              " ('authorities', 'authority'),\n",
              " ('based', 'base'),\n",
              " ('in', 'in'),\n",
              " ('Bern', 'Bern'),\n",
              " ('.', '.'),\n",
              " ('Switzerland', 'Switzerland'),\n",
              " ('is', 'be'),\n",
              " ('a', 'a'),\n",
              " ('landlocked', 'landlocked'),\n",
              " ('country', 'country'),\n",
              " ('bordered', 'border'),\n",
              " ('by', 'by'),\n",
              " ('Italy', 'Italy'),\n",
              " ('to', 'to'),\n",
              " ('the', 'the'),\n",
              " ('south', 'south'),\n",
              " (',', ','),\n",
              " ('France', 'France'),\n",
              " ('to', 'to'),\n",
              " ('the', 'the'),\n",
              " ('west', 'west'),\n",
              " (',', ','),\n",
              " ('Germany', 'Germany'),\n",
              " ('to', 'to'),\n",
              " ('the', 'the'),\n",
              " ('north', 'north'),\n",
              " (',', ','),\n",
              " ('and', 'and'),\n",
              " ('Austria', 'Austria'),\n",
              " ('and', 'and'),\n",
              " ('Liechtenstein', 'Liechtenstein'),\n",
              " ('to', 'to'),\n",
              " ('the', 'the'),\n",
              " ('east', 'east'),\n",
              " ('.', '.'),\n",
              " ('It', 'it'),\n",
              " ('is', 'be'),\n",
              " ('geographically', 'geographically'),\n",
              " ('divided', 'divide'),\n",
              " ('among', 'among'),\n",
              " ('the', 'the'),\n",
              " ('Swiss', 'Swiss'),\n",
              " ('Plateau', 'Plateau'),\n",
              " (',', ','),\n",
              " ('the', 'the'),\n",
              " ('Alps', 'Alps'),\n",
              " (',', ','),\n",
              " ('and', 'and'),\n",
              " ('the', 'the'),\n",
              " ('Jura', 'Jura'),\n",
              " (',', ','),\n",
              " ('spanning', 'span'),\n",
              " ('a', 'a'),\n",
              " ('total', 'total'),\n",
              " ('area', 'area'),\n",
              " ('of', 'of'),\n",
              " ('41,285', '41,285'),\n",
              " ('km2', 'km2'),\n",
              " ('(', '('),\n",
              " ('15,940', '15,940'),\n",
              " ('sq', 'sq'),\n",
              " ('mi', 'mi'),\n",
              " (')', ')'),\n",
              " (',', ','),\n",
              " ('and', 'and'),\n",
              " ('land', 'land'),\n",
              " ('area', 'area'),\n",
              " ('of', 'of'),\n",
              " ('39,997', '39,997'),\n",
              " ('km2', 'km2'),\n",
              " ('(', '('),\n",
              " ('15,443', '15,443'),\n",
              " ('sq', 'sq'),\n",
              " ('mi', 'mi'),\n",
              " (')', ')'),\n",
              " ('.', '.'),\n",
              " ('While', 'while'),\n",
              " ('the', 'the'),\n",
              " ('Alps', 'Alps'),\n",
              " ('occupy', 'occupy'),\n",
              " ('the', 'the'),\n",
              " ('greater', 'great'),\n",
              " ('part', 'part'),\n",
              " ('of', 'of'),\n",
              " ('the', 'the'),\n",
              " ('territory', 'territory'),\n",
              " (',', ','),\n",
              " ('the', 'the'),\n",
              " ('Swiss', 'swiss'),\n",
              " ('population', 'population'),\n",
              " ('of', 'of'),\n",
              " ('approximately', 'approximately'),\n",
              " ('8.5', '8.5'),\n",
              " ('million', 'million'),\n",
              " ('is', 'be'),\n",
              " ('concentrated', 'concentrate'),\n",
              " ('mostly', 'mostly'),\n",
              " ('on', 'on'),\n",
              " ('the', 'the'),\n",
              " ('plateau', 'plateau'),\n",
              " (',', ','),\n",
              " ('where', 'where'),\n",
              " ('the', 'the'),\n",
              " ('largest', 'large'),\n",
              " ('cities', 'city'),\n",
              " ('and', 'and'),\n",
              " ('economic', 'economic'),\n",
              " ('centres', 'centre'),\n",
              " ('are', 'be'),\n",
              " ('located', 'locate'),\n",
              " (',', ','),\n",
              " ('among', 'among'),\n",
              " ('them', 'they'),\n",
              " ('Zürich', 'Zürich'),\n",
              " (',', ','),\n",
              " ('Geneva', 'Geneva'),\n",
              " ('and', 'and'),\n",
              " ('Basel', 'Basel'),\n",
              " (',', ','),\n",
              " ('where', 'where'),\n",
              " ('multiple', 'multiple'),\n",
              " ('international', 'international'),\n",
              " ('organisations', 'organisation'),\n",
              " ('are', 'be'),\n",
              " ('domiciled', 'domicile'),\n",
              " ('(', '('),\n",
              " ('such', 'such'),\n",
              " ('as', 'as'),\n",
              " ('FIFA', 'FIFA'),\n",
              " (',', ','),\n",
              " ('the', 'the'),\n",
              " ('UN', 'UN'),\n",
              " (\"'s\", \"'s\"),\n",
              " ('second', 'second'),\n",
              " ('-', '-'),\n",
              " ('largest', 'large'),\n",
              " ('Office', 'Office'),\n",
              " (',', ','),\n",
              " ('and', 'and'),\n",
              " ('the', 'the'),\n",
              " ('Bank', 'Bank'),\n",
              " ('for', 'for'),\n",
              " ('International', 'International'),\n",
              " ('Settlements', 'Settlements'),\n",
              " (')', ')'),\n",
              " ('and', 'and'),\n",
              " ('where', 'where'),\n",
              " ('the', 'the'),\n",
              " ('main', 'main'),\n",
              " ('international', 'international'),\n",
              " ('airports', 'airport'),\n",
              " ('of', 'of'),\n",
              " ('Switzerland', 'Switzerland'),\n",
              " ('are', 'be'),\n",
              " ('.', '.'),\n",
              " ('\\n', '\\n')]"
            ]
          },
          "execution_count": 25,
          "metadata": {},
          "output_type": "execute_result"
        }
      ],
      "source": [
        "# Creating doc object\n",
        "doc=nlp(text)\n",
        "\n",
        "# Lemmatizing the text\n",
        "[(token.text,token.lemma_) for token in doc]"
      ]
    },
    {
      "cell_type": "markdown",
      "metadata": {
        "id": "GWOTRwFcjMUQ"
      },
      "source": [
        "Due to stopwords a lot of resources get wasted in storing and pre-processing these. Removing them makes the process of analysis and model building faster because the corpus size gets reduced due to it."
      ]
    },
    {
      "cell_type": "markdown",
      "metadata": {
        "id": "woqTO9SzjMUR"
      },
      "source": [
        "## Remove Stopwords:\n",
        "- Text Classification\n",
        "- Caption Generation\n",
        "- Auto-Tag Generation\n",
        "\n",
        "## Don't Remove Stopwords:\n",
        "- Machine Translation\n",
        "- Language Modeling\n",
        "- Text Summarization\n",
        "- Question-Answering Problems"
      ]
    }
  ],
  "metadata": {
    "colab": {
      "provenance": [],
      "include_colab_link": true
    },
    "kernelspec": {
      "display_name": "Python 3 (ipykernel)",
      "language": "python",
      "name": "python3"
    },
    "language_info": {
      "codemirror_mode": {
        "name": "ipython",
        "version": 3
      },
      "file_extension": ".py",
      "mimetype": "text/x-python",
      "name": "python",
      "nbconvert_exporter": "python",
      "pygments_lexer": "ipython3",
      "version": "3.9.12"
    }
  },
  "nbformat": 4,
  "nbformat_minor": 0
}
